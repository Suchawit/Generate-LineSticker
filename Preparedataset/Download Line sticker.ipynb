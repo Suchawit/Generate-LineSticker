{
 "cells": [
  {
   "cell_type": "code",
   "execution_count": 12,
   "metadata": {
    "scrolled": true
   },
   "outputs": [
    {
     "name": "stdout",
     "output_type": "stream",
     "text": [
      "Collecting linestickerdata==0.0.12\n",
      "  Using cached https://files.pythonhosted.org/packages/c8/f8/6d6b47ae77d6ec1767b4c46b7da5ced8f3af47d8fe86abb3c0acc6139d51/linestickerdata-0.0.12-py3-none-any.whl\n",
      "Installing collected packages: linestickerdata\n",
      "  Found existing installation: linestickerdata 0.0.11\n",
      "    Uninstalling linestickerdata-0.0.11:\n",
      "      Successfully uninstalled linestickerdata-0.0.11\n",
      "Successfully installed linestickerdata-0.0.12\n"
     ]
    }
   ],
   "source": [
    "!pip install --user linestickerdata==0.0.12"
   ]
  },
  {
   "cell_type": "markdown",
   "metadata": {},
   "source": [
    "### List all available sticker"
   ]
  },
  {
   "cell_type": "code",
   "execution_count": 2,
   "metadata": {},
   "outputs": [
    {
     "name": "stdout",
     "output_type": "stream",
     "text": [
      "dataofficial category:  ['Pop-Up Stickers', 'Big stickers', 'BROWN & FRIENDS', 'Animated Stickers', 'Humor and Entertainment', 'Anime', 'Games', 'With Voice or Sound', 'Kids Cartoons', 'Horoscope', 'Music sticker', 'TV Stars', 'Cartoons', 'Love and Romance', 'Manga', \"Official Creators' Stickers\", 'Disney', 'Sanrio', 'Characters', 'Custom stickers']\n",
      "dataofficial-th category:  ['ครีเอเตอร์ทางการ', 'BROWN&FRIENDS', 'มาสคอต', 'สติกเกอร์แอนิเมชัน', 'ความรักและโรแมนติก', 'สติกเกอร์เติมคำ', 'การ์ตูนเด็ก', 'ดารา & คนดัง', 'ดิสนีย์', 'อนิเมะ', 'สติกเกอร์มีเสียง', 'ดวงชะตาราศี', 'เกม', 'สติกเกอร์ป๊อปอัพ', 'บิ๊กสติกเกอร์', 'ตลกขบขัน', 'ซานริโอ้', 'มังงะ', 'การ์ตูน', 'มิวสิคสติกเกอร์']\n",
      "data taste:  ['Polite Language', 'Seasonal', 'Gorgeous', 'Dialects & Slang', 'Speech Balloons', 'Humorous', 'Greetings', 'Warm & Fuzzy', 'Cute', 'Cool', 'Wacky']\n",
      "data character:  ['Female Characters', 'Rabbits', 'Male Characters', 'Pandas', 'Birds', 'Bears', 'Weird', 'Families & Couples', 'Seals', 'Names', 'Dogs', 'Cats', 'Food', 'Other']\n",
      "data-th taste:  ['ตลก', 'เทศกาล', 'ทักทาย', 'ภาษาท้องถิ่น, สแลง', 'น่ารัก', 'เท่', 'บอลลูนข้อความ', 'สวยเริ่ด', 'อบอุ่น', 'แปลก', 'ภาษาสุภาพ']\n",
      "data-th character:  ['หมี', 'ชื่อ', 'สุนัข', 'หญิง', 'นก', 'อาหาร', 'แมว', 'ครอบครัว, คู่รัก', 'แมวน้ำ', 'แพนด้า', 'กระต่าย', 'อื่นๆ', 'ชาย']\n"
     ]
    }
   ],
   "source": [
    "from linestickerdata import list_available\n",
    "import matplotlib.pyplot as plt\n",
    "available = list_available()\n",
    "for row in available:\n",
    "    if 'taste' in row:\n",
    "        print(row['folder'], 'taste: ', row['taste'])\n",
    "    if 'category' in row:\n",
    "        print(row['folder'], 'category: ', row['category'])\n",
    "    if 'character' in row:\n",
    "        print(row['folder'], 'character: ', row['character'])"
   ]
  },
  {
   "cell_type": "code",
   "execution_count": 3,
   "metadata": {},
   "outputs": [],
   "source": [
    "import os"
   ]
  },
  {
   "cell_type": "code",
   "execution_count": 4,
   "metadata": {},
   "outputs": [
    {
     "name": "stdout",
     "output_type": "stream",
     "text": [
      " anime-face-detector   Line.ipynb\t        Untitled1.ipynb\r\n",
      " data\t\t       model.pt\t\t        Untitled2.ipynb\r\n",
      " download\t       testA\t\t        Untitled.ipynb\r\n",
      " download.1\t       testB\t\t        val2017.zip\r\n",
      " examples.desktop     'Text Dectection.ipynb'   wget-log\r\n",
      " Facedetection.ipynb   tmp\r\n",
      " face_recognition      trainA\r\n"
     ]
    }
   ],
   "source": [
    "!ls"
   ]
  },
  {
   "cell_type": "code",
   "execution_count": 5,
   "metadata": {},
   "outputs": [],
   "source": [
    "path = \"../non/pytorch-CycleGAN-and-pix2pix/alldata\"\n",
    "if os.path.isdir(path) == False:\n",
    "    os.mkdir(path)"
   ]
  },
  {
   "cell_type": "code",
   "execution_count": 6,
   "metadata": {},
   "outputs": [
    {
     "data": {
      "text/plain": [
       "'../non/pytorch-CycleGAN-and-pix2pix/alldata/1'"
      ]
     },
     "execution_count": 6,
     "metadata": {},
     "output_type": "execute_result"
    }
   ],
   "source": [
    "os.path.join(path,str(1))"
   ]
  },
  {
   "cell_type": "markdown",
   "metadata": {},
   "source": [
    "## List each path length"
   ]
  },
  {
   "cell_type": "code",
   "execution_count": 9,
   "metadata": {},
   "outputs": [
    {
     "name": "stderr",
     "output_type": "stream",
     "text": [
      "100%|██████████| 5/5 [00:01<00:00,  4.04it/s]\n",
      "  0%|          | 0/5 [00:00<?, ?it/s]"
     ]
    },
    {
     "name": "stdout",
     "output_type": "stream",
     "text": [
      "dataofficial category:  Pop-Up Stickers 114\n"
     ]
    },
    {
     "name": "stderr",
     "output_type": "stream",
     "text": [
      "100%|██████████| 5/5 [00:04<00:00,  1.16it/s]\n",
      " 20%|██        | 1/5 [00:00<00:00,  5.67it/s]"
     ]
    },
    {
     "name": "stdout",
     "output_type": "stream",
     "text": [
      "dataofficial category:  Big stickers 178\n"
     ]
    },
    {
     "name": "stderr",
     "output_type": "stream",
     "text": [
      "100%|██████████| 5/5 [00:01<00:00,  3.05it/s]\n",
      "  0%|          | 0/5 [00:00<?, ?it/s]"
     ]
    },
    {
     "name": "stdout",
     "output_type": "stream",
     "text": [
      "dataofficial category:  BROWN & FRIENDS 178\n"
     ]
    },
    {
     "name": "stderr",
     "output_type": "stream",
     "text": [
      "100%|██████████| 5/5 [00:01<00:00,  3.72it/s]\n",
      "  0%|          | 0/5 [00:00<?, ?it/s]"
     ]
    },
    {
     "name": "stdout",
     "output_type": "stream",
     "text": [
      "dataofficial category:  Animated Stickers 130\n"
     ]
    },
    {
     "name": "stderr",
     "output_type": "stream",
     "text": [
      "100%|██████████| 5/5 [00:01<00:00,  2.52it/s]\n",
      "  0%|          | 0/5 [00:00<?, ?it/s]"
     ]
    },
    {
     "name": "stdout",
     "output_type": "stream",
     "text": [
      "dataofficial category:  Humor and Entertainment 162\n"
     ]
    },
    {
     "name": "stderr",
     "output_type": "stream",
     "text": [
      "100%|██████████| 5/5 [00:01<00:00,  2.76it/s]\n",
      "  0%|          | 0/5 [00:00<?, ?it/s]"
     ]
    },
    {
     "name": "stdout",
     "output_type": "stream",
     "text": [
      "dataofficial category:  Anime 178\n"
     ]
    },
    {
     "name": "stderr",
     "output_type": "stream",
     "text": [
      "100%|██████████| 5/5 [00:01<00:00,  2.58it/s]\n",
      "  0%|          | 0/5 [00:00<?, ?it/s]"
     ]
    },
    {
     "name": "stdout",
     "output_type": "stream",
     "text": [
      "dataofficial category:  Games 178\n"
     ]
    },
    {
     "name": "stderr",
     "output_type": "stream",
     "text": [
      "100%|██████████| 5/5 [00:01<00:00,  3.76it/s]\n",
      "  0%|          | 0/5 [00:00<?, ?it/s]"
     ]
    },
    {
     "name": "stdout",
     "output_type": "stream",
     "text": [
      "dataofficial category:  With Voice or Sound 130\n"
     ]
    },
    {
     "name": "stderr",
     "output_type": "stream",
     "text": [
      "100%|██████████| 5/5 [00:01<00:00,  2.70it/s]\n",
      "  0%|          | 0/5 [00:00<?, ?it/s]"
     ]
    },
    {
     "name": "stdout",
     "output_type": "stream",
     "text": [
      "dataofficial category:  Kids Cartoons 162\n"
     ]
    },
    {
     "name": "stderr",
     "output_type": "stream",
     "text": [
      "100%|██████████| 5/5 [00:01<00:00,  3.05it/s]\n",
      "  0%|          | 0/5 [00:00<?, ?it/s]"
     ]
    },
    {
     "name": "stdout",
     "output_type": "stream",
     "text": [
      "dataofficial category:  Horoscope 130\n"
     ]
    },
    {
     "name": "stderr",
     "output_type": "stream",
     "text": [
      "100%|██████████| 5/5 [00:01<00:00,  3.35it/s]\n",
      "  0%|          | 0/5 [00:00<?, ?it/s]"
     ]
    },
    {
     "name": "stdout",
     "output_type": "stream",
     "text": [
      "dataofficial category:  Music sticker 130\n"
     ]
    },
    {
     "name": "stderr",
     "output_type": "stream",
     "text": [
      "100%|██████████| 5/5 [00:02<00:00,  2.29it/s]\n",
      "  0%|          | 0/5 [00:00<?, ?it/s]"
     ]
    },
    {
     "name": "stdout",
     "output_type": "stream",
     "text": [
      "dataofficial category:  TV Stars 146\n"
     ]
    },
    {
     "name": "stderr",
     "output_type": "stream",
     "text": [
      "100%|██████████| 5/5 [00:01<00:00,  2.88it/s]\n",
      "  0%|          | 0/5 [00:00<?, ?it/s]"
     ]
    },
    {
     "name": "stdout",
     "output_type": "stream",
     "text": [
      "dataofficial category:  Cartoons 146\n"
     ]
    },
    {
     "name": "stderr",
     "output_type": "stream",
     "text": [
      "100%|██████████| 5/5 [00:01<00:00,  2.97it/s]\n",
      "  0%|          | 0/5 [00:00<?, ?it/s]"
     ]
    },
    {
     "name": "stdout",
     "output_type": "stream",
     "text": [
      "dataofficial category:  Love and Romance 130\n"
     ]
    },
    {
     "name": "stderr",
     "output_type": "stream",
     "text": [
      "100%|██████████| 5/5 [00:01<00:00,  2.58it/s]\n",
      "  0%|          | 0/5 [00:00<?, ?it/s]"
     ]
    },
    {
     "name": "stdout",
     "output_type": "stream",
     "text": [
      "dataofficial category:  Manga 178\n"
     ]
    },
    {
     "name": "stderr",
     "output_type": "stream",
     "text": [
      "100%|██████████| 5/5 [00:01<00:00,  2.54it/s]\n",
      "  0%|          | 0/5 [00:00<?, ?it/s]"
     ]
    },
    {
     "name": "stdout",
     "output_type": "stream",
     "text": [
      "dataofficial category:  Official Creators' Stickers 162\n"
     ]
    },
    {
     "name": "stderr",
     "output_type": "stream",
     "text": [
      "100%|██████████| 5/5 [00:01<00:00,  2.50it/s]\n",
      "  0%|          | 0/5 [00:00<?, ?it/s]"
     ]
    },
    {
     "name": "stdout",
     "output_type": "stream",
     "text": [
      "dataofficial category:  Disney 178\n"
     ]
    },
    {
     "name": "stderr",
     "output_type": "stream",
     "text": [
      "100%|██████████| 5/5 [00:02<00:00,  2.30it/s]\n",
      "  0%|          | 0/5 [00:00<?, ?it/s]"
     ]
    },
    {
     "name": "stdout",
     "output_type": "stream",
     "text": [
      "dataofficial category:  Sanrio 194\n"
     ]
    },
    {
     "name": "stderr",
     "output_type": "stream",
     "text": [
      "100%|██████████| 5/5 [00:01<00:00,  3.54it/s]\n",
      "  0%|          | 0/5 [00:00<?, ?it/s]"
     ]
    },
    {
     "name": "stdout",
     "output_type": "stream",
     "text": [
      "dataofficial category:  Characters 146\n"
     ]
    },
    {
     "name": "stderr",
     "output_type": "stream",
     "text": [
      "100%|██████████| 5/5 [00:03<00:00,  1.53it/s]\n",
      "  0%|          | 0/5 [00:00<?, ?it/s]"
     ]
    },
    {
     "name": "stdout",
     "output_type": "stream",
     "text": [
      "dataofficial category:  Custom stickers 210\n"
     ]
    },
    {
     "name": "stderr",
     "output_type": "stream",
     "text": [
      "100%|██████████| 5/5 [00:01<00:00,  2.54it/s]\n",
      "  0%|          | 0/5 [00:00<?, ?it/s]"
     ]
    },
    {
     "name": "stdout",
     "output_type": "stream",
     "text": [
      "dataofficial-th category:  ครีเอเตอร์ทางการ 162\n"
     ]
    },
    {
     "name": "stderr",
     "output_type": "stream",
     "text": [
      "100%|██████████| 5/5 [00:01<00:00,  3.77it/s]\n",
      "  0%|          | 0/5 [00:00<?, ?it/s]"
     ]
    },
    {
     "name": "stdout",
     "output_type": "stream",
     "text": [
      "dataofficial-th category:  BROWN&FRIENDS 146\n"
     ]
    },
    {
     "name": "stderr",
     "output_type": "stream",
     "text": [
      "100%|██████████| 5/5 [00:01<00:00,  3.36it/s]\n",
      "  0%|          | 0/5 [00:00<?, ?it/s]"
     ]
    },
    {
     "name": "stdout",
     "output_type": "stream",
     "text": [
      "dataofficial-th category:  มาสคอต 146\n"
     ]
    },
    {
     "name": "stderr",
     "output_type": "stream",
     "text": [
      "100%|██████████| 5/5 [00:01<00:00,  3.33it/s]\n",
      "  0%|          | 0/5 [00:00<?, ?it/s]"
     ]
    },
    {
     "name": "stdout",
     "output_type": "stream",
     "text": [
      "dataofficial-th category:  สติกเกอร์แอนิเมชัน 130\n"
     ]
    },
    {
     "name": "stderr",
     "output_type": "stream",
     "text": [
      "100%|██████████| 5/5 [00:01<00:00,  3.11it/s]\n",
      "  0%|          | 0/5 [00:00<?, ?it/s]"
     ]
    },
    {
     "name": "stdout",
     "output_type": "stream",
     "text": [
      "dataofficial-th category:  ความรักและโรแมนติก 130\n"
     ]
    },
    {
     "name": "stderr",
     "output_type": "stream",
     "text": [
      "100%|██████████| 5/5 [00:02<00:00,  1.86it/s]\n",
      "  0%|          | 0/5 [00:00<?, ?it/s]"
     ]
    },
    {
     "name": "stdout",
     "output_type": "stream",
     "text": [
      "dataofficial-th category:  สติกเกอร์เติมคำ 210\n"
     ]
    },
    {
     "name": "stderr",
     "output_type": "stream",
     "text": [
      "100%|██████████| 5/5 [00:01<00:00,  2.70it/s]\n",
      "  0%|          | 0/5 [00:00<?, ?it/s]"
     ]
    },
    {
     "name": "stdout",
     "output_type": "stream",
     "text": [
      "dataofficial-th category:  การ์ตูนเด็ก 162\n"
     ]
    },
    {
     "name": "stderr",
     "output_type": "stream",
     "text": [
      "100%|██████████| 5/5 [00:02<00:00,  2.34it/s]\n",
      "  0%|          | 0/5 [00:00<?, ?it/s]"
     ]
    },
    {
     "name": "stdout",
     "output_type": "stream",
     "text": [
      "dataofficial-th category:  ดารา & คนดัง 146\n"
     ]
    },
    {
     "name": "stderr",
     "output_type": "stream",
     "text": [
      "100%|██████████| 5/5 [00:01<00:00,  2.82it/s]\n",
      "  0%|          | 0/5 [00:00<?, ?it/s]"
     ]
    },
    {
     "name": "stdout",
     "output_type": "stream",
     "text": [
      "dataofficial-th category:  ดิสนีย์ 162\n"
     ]
    },
    {
     "name": "stderr",
     "output_type": "stream",
     "text": [
      " 40%|████      | 2/5 [00:00<00:01,  2.16it/s]\n"
     ]
    },
    {
     "ename": "KeyboardInterrupt",
     "evalue": "",
     "output_type": "error",
     "traceback": [
      "\u001b[0;31m---------------------------------------------------------------------------\u001b[0m",
      "\u001b[0;31mKeyboardInterrupt\u001b[0m                         Traceback (most recent call last)",
      "\u001b[0;32m<ipython-input-9-2a7b08aedbd0>\u001b[0m in \u001b[0;36m<module>\u001b[0;34m\u001b[0m\n\u001b[1;32m      9\u001b[0m     \u001b[0;32mif\u001b[0m \u001b[0;34m'category'\u001b[0m \u001b[0;32min\u001b[0m \u001b[0mrow\u001b[0m\u001b[0;34m:\u001b[0m\u001b[0;34m\u001b[0m\u001b[0;34m\u001b[0m\u001b[0m\n\u001b[1;32m     10\u001b[0m         \u001b[0;32mfor\u001b[0m \u001b[0mp\u001b[0m \u001b[0;32min\u001b[0m \u001b[0mrange\u001b[0m\u001b[0;34m(\u001b[0m\u001b[0mlen\u001b[0m\u001b[0;34m(\u001b[0m\u001b[0mrow\u001b[0m\u001b[0;34m[\u001b[0m\u001b[0;34m'category'\u001b[0m\u001b[0;34m]\u001b[0m\u001b[0;34m)\u001b[0m\u001b[0;34m)\u001b[0m\u001b[0;34m:\u001b[0m\u001b[0;34m\u001b[0m\u001b[0;34m\u001b[0m\u001b[0m\n\u001b[0;32m---> 11\u001b[0;31m             \u001b[0mpaths\u001b[0m \u001b[0;34m=\u001b[0m \u001b[0mget_image_paths\u001b[0m\u001b[0;34m(\u001b[0m\u001b[0mfolder\u001b[0m\u001b[0;34m=\u001b[0m\u001b[0mrow\u001b[0m\u001b[0;34m[\u001b[0m\u001b[0;34m'folder'\u001b[0m\u001b[0;34m]\u001b[0m\u001b[0;34m,\u001b[0m \u001b[0mcharacter\u001b[0m\u001b[0;34m=\u001b[0m \u001b[0mrow\u001b[0m\u001b[0;34m[\u001b[0m\u001b[0;34m'category'\u001b[0m\u001b[0;34m]\u001b[0m\u001b[0;34m[\u001b[0m\u001b[0mp\u001b[0m\u001b[0;34m]\u001b[0m\u001b[0;34m,\u001b[0m \u001b[0mn\u001b[0m\u001b[0;34m=\u001b[0m\u001b[0;36m5\u001b[0m\u001b[0;34m,\u001b[0m \u001b[0mnum_workers\u001b[0m\u001b[0;34m=\u001b[0m\u001b[0;36m1\u001b[0m\u001b[0;34m,\u001b[0m \u001b[0mseed\u001b[0m\u001b[0;34m=\u001b[0m\u001b[0;36m0\u001b[0m\u001b[0;34m)\u001b[0m\u001b[0;34m\u001b[0m\u001b[0;34m\u001b[0m\u001b[0m\n\u001b[0m\u001b[1;32m     12\u001b[0m             \u001b[0mprint\u001b[0m\u001b[0;34m(\u001b[0m\u001b[0mrow\u001b[0m\u001b[0;34m[\u001b[0m\u001b[0;34m'folder'\u001b[0m\u001b[0;34m]\u001b[0m\u001b[0;34m,\u001b[0m \u001b[0;34m'category: '\u001b[0m\u001b[0;34m,\u001b[0m \u001b[0mrow\u001b[0m\u001b[0;34m[\u001b[0m\u001b[0;34m'category'\u001b[0m\u001b[0;34m]\u001b[0m\u001b[0;34m[\u001b[0m\u001b[0mp\u001b[0m\u001b[0;34m]\u001b[0m\u001b[0;34m,\u001b[0m\u001b[0mlen\u001b[0m\u001b[0;34m(\u001b[0m\u001b[0mpaths\u001b[0m\u001b[0;34m)\u001b[0m\u001b[0;34m)\u001b[0m\u001b[0;34m\u001b[0m\u001b[0;34m\u001b[0m\u001b[0m\n\u001b[1;32m     13\u001b[0m     \u001b[0;32mif\u001b[0m \u001b[0;34m'character'\u001b[0m \u001b[0;32min\u001b[0m \u001b[0mrow\u001b[0m\u001b[0;34m:\u001b[0m\u001b[0;34m\u001b[0m\u001b[0;34m\u001b[0m\u001b[0m\n",
      "\u001b[0;32m~/.local/lib/python3.7/site-packages/linestickerdata/__init__.py\u001b[0m in \u001b[0;36mget_image_paths\u001b[0;34m(folder, taste, character, category, n, location, num_workers, seed)\u001b[0m\n\u001b[1;32m    211\u001b[0m     \u001b[0mimagePaths\u001b[0m \u001b[0;34m=\u001b[0m \u001b[0;34m[\u001b[0m\u001b[0;34m]\u001b[0m\u001b[0;34m\u001b[0m\u001b[0;34m\u001b[0m\u001b[0m\n\u001b[1;32m    212\u001b[0m     \u001b[0;32mif\u001b[0m \u001b[0mnum_workers\u001b[0m \u001b[0;34m==\u001b[0m \u001b[0;36m1\u001b[0m\u001b[0;34m:\u001b[0m\u001b[0;34m\u001b[0m\u001b[0;34m\u001b[0m\u001b[0m\n\u001b[0;32m--> 213\u001b[0;31m         \u001b[0;32mfor\u001b[0m \u001b[0mline\u001b[0m \u001b[0;32min\u001b[0m \u001b[0mtqdm\u001b[0m\u001b[0;34m(\u001b[0m\u001b[0mlines\u001b[0m\u001b[0;34m)\u001b[0m\u001b[0;34m:\u001b[0m\u001b[0;34m\u001b[0m\u001b[0;34m\u001b[0m\u001b[0m\n\u001b[0m\u001b[1;32m    214\u001b[0m             \u001b[0mimagePaths\u001b[0m\u001b[0;34m.\u001b[0m\u001b[0mextend\u001b[0m\u001b[0;34m(\u001b[0m\u001b[0m_process\u001b[0m\u001b[0;34m(\u001b[0m\u001b[0mline\u001b[0m\u001b[0;34m,\u001b[0m \u001b[0mlocation\u001b[0m\u001b[0;34m=\u001b[0m\u001b[0mlocation\u001b[0m\u001b[0;34m)\u001b[0m\u001b[0;34m)\u001b[0m\u001b[0;34m\u001b[0m\u001b[0;34m\u001b[0m\u001b[0m\n\u001b[1;32m    215\u001b[0m     \u001b[0;32melse\u001b[0m\u001b[0;34m:\u001b[0m\u001b[0;34m\u001b[0m\u001b[0;34m\u001b[0m\u001b[0m\n",
      "\u001b[0;32m/opt/tljh/user/lib/python3.7/site-packages/tqdm/std.py\u001b[0m in \u001b[0;36m__iter__\u001b[0;34m(self)\u001b[0m\n\u001b[1;32m   1182\u001b[0m \u001b[0;34m\u001b[0m\u001b[0m\n\u001b[1;32m   1183\u001b[0m                         \u001b[0mself\u001b[0m\u001b[0;34m.\u001b[0m\u001b[0mn\u001b[0m \u001b[0;34m=\u001b[0m \u001b[0mn\u001b[0m\u001b[0;34m\u001b[0m\u001b[0;34m\u001b[0m\u001b[0m\n\u001b[0;32m-> 1184\u001b[0;31m                         \u001b[0mself\u001b[0m\u001b[0;34m.\u001b[0m\u001b[0mrefresh\u001b[0m\u001b[0;34m(\u001b[0m\u001b[0mlock_args\u001b[0m\u001b[0;34m=\u001b[0m\u001b[0mself\u001b[0m\u001b[0;34m.\u001b[0m\u001b[0mlock_args\u001b[0m\u001b[0;34m)\u001b[0m\u001b[0;34m\u001b[0m\u001b[0;34m\u001b[0m\u001b[0m\n\u001b[0m\u001b[1;32m   1185\u001b[0m \u001b[0;34m\u001b[0m\u001b[0m\n\u001b[1;32m   1186\u001b[0m                         \u001b[0;31m# If no `miniters` was specified, adjust automatically\u001b[0m\u001b[0;34m\u001b[0m\u001b[0;34m\u001b[0m\u001b[0;34m\u001b[0m\u001b[0m\n",
      "\u001b[0;32m/opt/tljh/user/lib/python3.7/site-packages/tqdm/std.py\u001b[0m in \u001b[0;36mrefresh\u001b[0;34m(self, nolock, lock_args)\u001b[0m\n\u001b[1;32m   1378\u001b[0m             \u001b[0;32melse\u001b[0m\u001b[0;34m:\u001b[0m\u001b[0;34m\u001b[0m\u001b[0;34m\u001b[0m\u001b[0m\n\u001b[1;32m   1379\u001b[0m                 \u001b[0mself\u001b[0m\u001b[0;34m.\u001b[0m\u001b[0m_lock\u001b[0m\u001b[0;34m.\u001b[0m\u001b[0macquire\u001b[0m\u001b[0;34m(\u001b[0m\u001b[0;34m)\u001b[0m\u001b[0;34m\u001b[0m\u001b[0;34m\u001b[0m\u001b[0m\n\u001b[0;32m-> 1380\u001b[0;31m         \u001b[0mself\u001b[0m\u001b[0;34m.\u001b[0m\u001b[0mdisplay\u001b[0m\u001b[0;34m(\u001b[0m\u001b[0;34m)\u001b[0m\u001b[0;34m\u001b[0m\u001b[0;34m\u001b[0m\u001b[0m\n\u001b[0m\u001b[1;32m   1381\u001b[0m         \u001b[0;32mif\u001b[0m \u001b[0;32mnot\u001b[0m \u001b[0mnolock\u001b[0m\u001b[0;34m:\u001b[0m\u001b[0;34m\u001b[0m\u001b[0;34m\u001b[0m\u001b[0m\n\u001b[1;32m   1382\u001b[0m             \u001b[0mself\u001b[0m\u001b[0;34m.\u001b[0m\u001b[0m_lock\u001b[0m\u001b[0;34m.\u001b[0m\u001b[0mrelease\u001b[0m\u001b[0;34m(\u001b[0m\u001b[0;34m)\u001b[0m\u001b[0;34m\u001b[0m\u001b[0;34m\u001b[0m\u001b[0m\n",
      "\u001b[0;32m/opt/tljh/user/lib/python3.7/site-packages/tqdm/std.py\u001b[0m in \u001b[0;36mdisplay\u001b[0;34m(self, msg, pos)\u001b[0m\n\u001b[1;32m   1512\u001b[0m         \u001b[0;32mif\u001b[0m \u001b[0mpos\u001b[0m\u001b[0;34m:\u001b[0m\u001b[0;34m\u001b[0m\u001b[0;34m\u001b[0m\u001b[0m\n\u001b[1;32m   1513\u001b[0m             \u001b[0mself\u001b[0m\u001b[0;34m.\u001b[0m\u001b[0mmoveto\u001b[0m\u001b[0;34m(\u001b[0m\u001b[0mpos\u001b[0m\u001b[0;34m)\u001b[0m\u001b[0;34m\u001b[0m\u001b[0;34m\u001b[0m\u001b[0m\n\u001b[0;32m-> 1514\u001b[0;31m         \u001b[0mself\u001b[0m\u001b[0;34m.\u001b[0m\u001b[0msp\u001b[0m\u001b[0;34m(\u001b[0m\u001b[0mself\u001b[0m\u001b[0;34m.\u001b[0m\u001b[0m__repr__\u001b[0m\u001b[0;34m(\u001b[0m\u001b[0;34m)\u001b[0m \u001b[0;32mif\u001b[0m \u001b[0mmsg\u001b[0m \u001b[0;32mis\u001b[0m \u001b[0;32mNone\u001b[0m \u001b[0;32melse\u001b[0m \u001b[0mmsg\u001b[0m\u001b[0;34m)\u001b[0m\u001b[0;34m\u001b[0m\u001b[0;34m\u001b[0m\u001b[0m\n\u001b[0m\u001b[1;32m   1515\u001b[0m         \u001b[0;32mif\u001b[0m \u001b[0mpos\u001b[0m\u001b[0;34m:\u001b[0m\u001b[0;34m\u001b[0m\u001b[0;34m\u001b[0m\u001b[0m\n\u001b[1;32m   1516\u001b[0m             \u001b[0mself\u001b[0m\u001b[0;34m.\u001b[0m\u001b[0mmoveto\u001b[0m\u001b[0;34m(\u001b[0m\u001b[0;34m-\u001b[0m\u001b[0mpos\u001b[0m\u001b[0;34m)\u001b[0m\u001b[0;34m\u001b[0m\u001b[0;34m\u001b[0m\u001b[0m\n",
      "\u001b[0;32m/opt/tljh/user/lib/python3.7/site-packages/tqdm/std.py\u001b[0m in \u001b[0;36mprint_status\u001b[0;34m(s)\u001b[0m\n\u001b[1;32m    333\u001b[0m         \u001b[0;32mdef\u001b[0m \u001b[0mprint_status\u001b[0m\u001b[0;34m(\u001b[0m\u001b[0ms\u001b[0m\u001b[0;34m)\u001b[0m\u001b[0;34m:\u001b[0m\u001b[0;34m\u001b[0m\u001b[0;34m\u001b[0m\u001b[0m\n\u001b[1;32m    334\u001b[0m             \u001b[0mlen_s\u001b[0m \u001b[0;34m=\u001b[0m \u001b[0mdisp_len\u001b[0m\u001b[0;34m(\u001b[0m\u001b[0ms\u001b[0m\u001b[0;34m)\u001b[0m\u001b[0;34m\u001b[0m\u001b[0;34m\u001b[0m\u001b[0m\n\u001b[0;32m--> 335\u001b[0;31m             \u001b[0mfp_write\u001b[0m\u001b[0;34m(\u001b[0m\u001b[0;34m'\\r'\u001b[0m \u001b[0;34m+\u001b[0m \u001b[0ms\u001b[0m \u001b[0;34m+\u001b[0m \u001b[0;34m(\u001b[0m\u001b[0;34m' '\u001b[0m \u001b[0;34m*\u001b[0m \u001b[0mmax\u001b[0m\u001b[0;34m(\u001b[0m\u001b[0mlast_len\u001b[0m\u001b[0;34m[\u001b[0m\u001b[0;36m0\u001b[0m\u001b[0;34m]\u001b[0m \u001b[0;34m-\u001b[0m \u001b[0mlen_s\u001b[0m\u001b[0;34m,\u001b[0m \u001b[0;36m0\u001b[0m\u001b[0;34m)\u001b[0m\u001b[0;34m)\u001b[0m\u001b[0;34m)\u001b[0m\u001b[0;34m\u001b[0m\u001b[0;34m\u001b[0m\u001b[0m\n\u001b[0m\u001b[1;32m    336\u001b[0m             \u001b[0mlast_len\u001b[0m\u001b[0;34m[\u001b[0m\u001b[0;36m0\u001b[0m\u001b[0;34m]\u001b[0m \u001b[0;34m=\u001b[0m \u001b[0mlen_s\u001b[0m\u001b[0;34m\u001b[0m\u001b[0;34m\u001b[0m\u001b[0m\n\u001b[1;32m    337\u001b[0m \u001b[0;34m\u001b[0m\u001b[0m\n",
      "\u001b[0;32m/opt/tljh/user/lib/python3.7/site-packages/tqdm/std.py\u001b[0m in \u001b[0;36mfp_write\u001b[0;34m(s)\u001b[0m\n\u001b[1;32m    327\u001b[0m         \u001b[0;32mdef\u001b[0m \u001b[0mfp_write\u001b[0m\u001b[0;34m(\u001b[0m\u001b[0ms\u001b[0m\u001b[0;34m)\u001b[0m\u001b[0;34m:\u001b[0m\u001b[0;34m\u001b[0m\u001b[0;34m\u001b[0m\u001b[0m\n\u001b[1;32m    328\u001b[0m             \u001b[0mfp\u001b[0m\u001b[0;34m.\u001b[0m\u001b[0mwrite\u001b[0m\u001b[0;34m(\u001b[0m\u001b[0m_unicode\u001b[0m\u001b[0;34m(\u001b[0m\u001b[0ms\u001b[0m\u001b[0;34m)\u001b[0m\u001b[0;34m)\u001b[0m\u001b[0;34m\u001b[0m\u001b[0;34m\u001b[0m\u001b[0m\n\u001b[0;32m--> 329\u001b[0;31m             \u001b[0mfp_flush\u001b[0m\u001b[0;34m(\u001b[0m\u001b[0;34m)\u001b[0m\u001b[0;34m\u001b[0m\u001b[0;34m\u001b[0m\u001b[0m\n\u001b[0m\u001b[1;32m    330\u001b[0m \u001b[0;34m\u001b[0m\u001b[0m\n\u001b[1;32m    331\u001b[0m         \u001b[0mlast_len\u001b[0m \u001b[0;34m=\u001b[0m \u001b[0;34m[\u001b[0m\u001b[0;36m0\u001b[0m\u001b[0;34m]\u001b[0m\u001b[0;34m\u001b[0m\u001b[0;34m\u001b[0m\u001b[0m\n",
      "\u001b[0;32m/opt/tljh/user/lib/python3.7/site-packages/tqdm/utils.py\u001b[0m in \u001b[0;36minner\u001b[0;34m(*args, **kwargs)\u001b[0m\n\u001b[1;32m    221\u001b[0m         \u001b[0;32mdef\u001b[0m \u001b[0minner\u001b[0m\u001b[0;34m(\u001b[0m\u001b[0;34m*\u001b[0m\u001b[0margs\u001b[0m\u001b[0;34m,\u001b[0m \u001b[0;34m**\u001b[0m\u001b[0mkwargs\u001b[0m\u001b[0;34m)\u001b[0m\u001b[0;34m:\u001b[0m\u001b[0;34m\u001b[0m\u001b[0;34m\u001b[0m\u001b[0m\n\u001b[1;32m    222\u001b[0m             \u001b[0;32mtry\u001b[0m\u001b[0;34m:\u001b[0m\u001b[0;34m\u001b[0m\u001b[0;34m\u001b[0m\u001b[0m\n\u001b[0;32m--> 223\u001b[0;31m                 \u001b[0;32mreturn\u001b[0m \u001b[0mfunc\u001b[0m\u001b[0;34m(\u001b[0m\u001b[0;34m*\u001b[0m\u001b[0margs\u001b[0m\u001b[0;34m,\u001b[0m \u001b[0;34m**\u001b[0m\u001b[0mkwargs\u001b[0m\u001b[0;34m)\u001b[0m\u001b[0;34m\u001b[0m\u001b[0;34m\u001b[0m\u001b[0m\n\u001b[0m\u001b[1;32m    224\u001b[0m             \u001b[0;32mexcept\u001b[0m \u001b[0;34m(\u001b[0m\u001b[0mIOError\u001b[0m\u001b[0;34m,\u001b[0m \u001b[0mOSError\u001b[0m\u001b[0;34m)\u001b[0m \u001b[0;32mas\u001b[0m \u001b[0me\u001b[0m\u001b[0;34m:\u001b[0m\u001b[0;34m\u001b[0m\u001b[0;34m\u001b[0m\u001b[0m\n\u001b[1;32m    225\u001b[0m                 \u001b[0;32mif\u001b[0m \u001b[0me\u001b[0m\u001b[0;34m.\u001b[0m\u001b[0merrno\u001b[0m \u001b[0;34m!=\u001b[0m \u001b[0;36m5\u001b[0m\u001b[0;34m:\u001b[0m\u001b[0;34m\u001b[0m\u001b[0;34m\u001b[0m\u001b[0m\n",
      "\u001b[0;32m/opt/tljh/user/lib/python3.7/site-packages/ipykernel/iostream.py\u001b[0m in \u001b[0;36mflush\u001b[0;34m(self)\u001b[0m\n\u001b[1;32m    350\u001b[0m                 \u001b[0mself\u001b[0m\u001b[0;34m.\u001b[0m\u001b[0mpub_thread\u001b[0m\u001b[0;34m.\u001b[0m\u001b[0mschedule\u001b[0m\u001b[0;34m(\u001b[0m\u001b[0mevt\u001b[0m\u001b[0;34m.\u001b[0m\u001b[0mset\u001b[0m\u001b[0;34m)\u001b[0m\u001b[0;34m\u001b[0m\u001b[0;34m\u001b[0m\u001b[0m\n\u001b[1;32m    351\u001b[0m                 \u001b[0;31m# and give a timeout to avoid\u001b[0m\u001b[0;34m\u001b[0m\u001b[0;34m\u001b[0m\u001b[0;34m\u001b[0m\u001b[0m\n\u001b[0;32m--> 352\u001b[0;31m                 \u001b[0;32mif\u001b[0m \u001b[0;32mnot\u001b[0m \u001b[0mevt\u001b[0m\u001b[0;34m.\u001b[0m\u001b[0mwait\u001b[0m\u001b[0;34m(\u001b[0m\u001b[0mself\u001b[0m\u001b[0;34m.\u001b[0m\u001b[0mflush_timeout\u001b[0m\u001b[0;34m)\u001b[0m\u001b[0;34m:\u001b[0m\u001b[0;34m\u001b[0m\u001b[0;34m\u001b[0m\u001b[0m\n\u001b[0m\u001b[1;32m    353\u001b[0m                     \u001b[0;31m# write directly to __stderr__ instead of warning because\u001b[0m\u001b[0;34m\u001b[0m\u001b[0;34m\u001b[0m\u001b[0;34m\u001b[0m\u001b[0m\n\u001b[1;32m    354\u001b[0m                     \u001b[0;31m# if this is happening sys.stderr may be the problem.\u001b[0m\u001b[0;34m\u001b[0m\u001b[0;34m\u001b[0m\u001b[0;34m\u001b[0m\u001b[0m\n",
      "\u001b[0;32m/opt/tljh/user/lib/python3.7/threading.py\u001b[0m in \u001b[0;36mwait\u001b[0;34m(self, timeout)\u001b[0m\n\u001b[1;32m    550\u001b[0m             \u001b[0msignaled\u001b[0m \u001b[0;34m=\u001b[0m \u001b[0mself\u001b[0m\u001b[0;34m.\u001b[0m\u001b[0m_flag\u001b[0m\u001b[0;34m\u001b[0m\u001b[0;34m\u001b[0m\u001b[0m\n\u001b[1;32m    551\u001b[0m             \u001b[0;32mif\u001b[0m \u001b[0;32mnot\u001b[0m \u001b[0msignaled\u001b[0m\u001b[0;34m:\u001b[0m\u001b[0;34m\u001b[0m\u001b[0;34m\u001b[0m\u001b[0m\n\u001b[0;32m--> 552\u001b[0;31m                 \u001b[0msignaled\u001b[0m \u001b[0;34m=\u001b[0m \u001b[0mself\u001b[0m\u001b[0;34m.\u001b[0m\u001b[0m_cond\u001b[0m\u001b[0;34m.\u001b[0m\u001b[0mwait\u001b[0m\u001b[0;34m(\u001b[0m\u001b[0mtimeout\u001b[0m\u001b[0;34m)\u001b[0m\u001b[0;34m\u001b[0m\u001b[0;34m\u001b[0m\u001b[0m\n\u001b[0m\u001b[1;32m    553\u001b[0m             \u001b[0;32mreturn\u001b[0m \u001b[0msignaled\u001b[0m\u001b[0;34m\u001b[0m\u001b[0;34m\u001b[0m\u001b[0m\n\u001b[1;32m    554\u001b[0m \u001b[0;34m\u001b[0m\u001b[0m\n",
      "\u001b[0;32m/opt/tljh/user/lib/python3.7/threading.py\u001b[0m in \u001b[0;36mwait\u001b[0;34m(self, timeout)\u001b[0m\n\u001b[1;32m    298\u001b[0m             \u001b[0;32melse\u001b[0m\u001b[0;34m:\u001b[0m\u001b[0;34m\u001b[0m\u001b[0;34m\u001b[0m\u001b[0m\n\u001b[1;32m    299\u001b[0m                 \u001b[0;32mif\u001b[0m \u001b[0mtimeout\u001b[0m \u001b[0;34m>\u001b[0m \u001b[0;36m0\u001b[0m\u001b[0;34m:\u001b[0m\u001b[0;34m\u001b[0m\u001b[0;34m\u001b[0m\u001b[0m\n\u001b[0;32m--> 300\u001b[0;31m                     \u001b[0mgotit\u001b[0m \u001b[0;34m=\u001b[0m \u001b[0mwaiter\u001b[0m\u001b[0;34m.\u001b[0m\u001b[0macquire\u001b[0m\u001b[0;34m(\u001b[0m\u001b[0;32mTrue\u001b[0m\u001b[0;34m,\u001b[0m \u001b[0mtimeout\u001b[0m\u001b[0;34m)\u001b[0m\u001b[0;34m\u001b[0m\u001b[0;34m\u001b[0m\u001b[0m\n\u001b[0m\u001b[1;32m    301\u001b[0m                 \u001b[0;32melse\u001b[0m\u001b[0;34m:\u001b[0m\u001b[0;34m\u001b[0m\u001b[0;34m\u001b[0m\u001b[0m\n\u001b[1;32m    302\u001b[0m                     \u001b[0mgotit\u001b[0m \u001b[0;34m=\u001b[0m \u001b[0mwaiter\u001b[0m\u001b[0;34m.\u001b[0m\u001b[0macquire\u001b[0m\u001b[0;34m(\u001b[0m\u001b[0;32mFalse\u001b[0m\u001b[0;34m)\u001b[0m\u001b[0;34m\u001b[0m\u001b[0;34m\u001b[0m\u001b[0m\n",
      "\u001b[0;31mKeyboardInterrupt\u001b[0m: "
     ]
    }
   ],
   "source": [
    "from linestickerdata import get_image_paths\n",
    "from skimage.io import imshow, imread,imsave\n",
    "len(available)\n",
    "for row in available:\n",
    "    if 'taste' in row:\n",
    "        for p in range(len(row['taste'])):\n",
    "            paths = get_image_paths(folder=row['folder'], character= row['taste'][p], n=5, num_workers=1, seed=0)\n",
    "            print(row['folder'], 'taste: ', row['taste'][p],len(paths))\n",
    "    if 'category' in row:\n",
    "        for p in range(len(row['category'])):\n",
    "            paths = get_image_paths(folder=row['folder'], character= row['category'][p], n=5, num_workers=1, seed=0)\n",
    "            print(row['folder'], 'category: ', row['category'][p],len(paths))\n",
    "    if 'character' in row:\n",
    "        for p in range(len(row['character'])):\n",
    "            paths = get_image_paths(folder=row['folder'], character= row['character'][p], n=5, num_workers=1, seed=0)     \n",
    "            print(row['folder'], 'character: ', row['character'][p],len(paths))"
   ]
  },
  {
   "cell_type": "markdown",
   "metadata": {},
   "source": [
    "## Save image to path directory"
   ]
  },
  {
   "cell_type": "code",
   "execution_count": 9,
   "metadata": {
    "scrolled": true
   },
   "outputs": [
    {
     "name": "stderr",
     "output_type": "stream",
     "text": [
      "\r",
      "  0%|          | 0/5 [00:00<?, ?it/s]"
     ]
    },
    {
     "name": "stdout",
     "output_type": "stream",
     "text": [
      "dataofficial category:  ['Pop-Up Stickers', 'Big stickers', 'BROWN & FRIENDS', 'Animated Stickers', 'Humor and Entertainment', 'Anime', 'Games', 'With Voice or Sound', 'Kids Cartoons', 'Horoscope', 'Music sticker', 'TV Stars', 'Cartoons', 'Love and Romance', 'Manga', \"Official Creators' Stickers\", 'Disney', 'Sanrio', 'Characters', 'Custom stickers'] 20\n"
     ]
    },
    {
     "name": "stderr",
     "output_type": "stream",
     "text": [
      "100%|██████████| 5/5 [00:01<00:00,  4.07it/s]\n"
     ]
    },
    {
     "name": "stdout",
     "output_type": "stream",
     "text": [
      "ครึ่งทางละ\n"
     ]
    },
    {
     "name": "stderr",
     "output_type": "stream",
     "text": [
      "100%|██████████| 5/5 [00:04<00:00,  1.17it/s]\n"
     ]
    },
    {
     "name": "stdout",
     "output_type": "stream",
     "text": [
      "ครึ่งทางละ\n"
     ]
    },
    {
     "name": "stderr",
     "output_type": "stream",
     "text": [
      "100%|██████████| 5/5 [00:01<00:00,  3.04it/s]\n"
     ]
    },
    {
     "name": "stdout",
     "output_type": "stream",
     "text": [
      "ครึ่งทางละ\n"
     ]
    },
    {
     "name": "stderr",
     "output_type": "stream",
     "text": [
      "100%|██████████| 5/5 [00:01<00:00,  3.71it/s]\n"
     ]
    },
    {
     "name": "stdout",
     "output_type": "stream",
     "text": [
      "ครึ่งทางละ\n"
     ]
    },
    {
     "name": "stderr",
     "output_type": "stream",
     "text": [
      "100%|██████████| 5/5 [00:01<00:00,  2.51it/s]\n"
     ]
    },
    {
     "name": "stdout",
     "output_type": "stream",
     "text": [
      "ครึ่งทางละ\n"
     ]
    },
    {
     "name": "stderr",
     "output_type": "stream",
     "text": [
      "100%|██████████| 5/5 [00:01<00:00,  2.80it/s]\n"
     ]
    },
    {
     "name": "stdout",
     "output_type": "stream",
     "text": [
      "ครึ่งทางละ\n"
     ]
    },
    {
     "name": "stderr",
     "output_type": "stream",
     "text": [
      "100%|██████████| 5/5 [00:01<00:00,  2.57it/s]\n"
     ]
    },
    {
     "name": "stdout",
     "output_type": "stream",
     "text": [
      "ครึ่งทางละ\n"
     ]
    },
    {
     "name": "stderr",
     "output_type": "stream",
     "text": [
      "100%|██████████| 5/5 [00:01<00:00,  3.77it/s]\n"
     ]
    },
    {
     "name": "stdout",
     "output_type": "stream",
     "text": [
      "ครึ่งทางละ\n"
     ]
    },
    {
     "name": "stderr",
     "output_type": "stream",
     "text": [
      "100%|██████████| 5/5 [00:01<00:00,  2.69it/s]\n"
     ]
    },
    {
     "name": "stdout",
     "output_type": "stream",
     "text": [
      "ครึ่งทางละ\n"
     ]
    },
    {
     "name": "stderr",
     "output_type": "stream",
     "text": [
      "100%|██████████| 5/5 [00:01<00:00,  3.05it/s]\n"
     ]
    },
    {
     "name": "stdout",
     "output_type": "stream",
     "text": [
      "ครึ่งทางละ\n"
     ]
    },
    {
     "name": "stderr",
     "output_type": "stream",
     "text": [
      "100%|██████████| 5/5 [00:01<00:00,  3.37it/s]\n"
     ]
    },
    {
     "name": "stdout",
     "output_type": "stream",
     "text": [
      "ครึ่งทางละ\n"
     ]
    },
    {
     "name": "stderr",
     "output_type": "stream",
     "text": [
      "100%|██████████| 5/5 [00:02<00:00,  2.32it/s]\n"
     ]
    },
    {
     "name": "stdout",
     "output_type": "stream",
     "text": [
      "ครึ่งทางละ\n"
     ]
    },
    {
     "name": "stderr",
     "output_type": "stream",
     "text": [
      "100%|██████████| 5/5 [00:01<00:00,  2.89it/s]\n"
     ]
    },
    {
     "name": "stdout",
     "output_type": "stream",
     "text": [
      "ครึ่งทางละ\n"
     ]
    },
    {
     "name": "stderr",
     "output_type": "stream",
     "text": [
      "100%|██████████| 5/5 [00:01<00:00,  2.99it/s]\n"
     ]
    },
    {
     "name": "stdout",
     "output_type": "stream",
     "text": [
      "ครึ่งทางละ\n"
     ]
    },
    {
     "name": "stderr",
     "output_type": "stream",
     "text": [
      "100%|██████████| 5/5 [00:01<00:00,  2.58it/s]\n"
     ]
    },
    {
     "name": "stdout",
     "output_type": "stream",
     "text": [
      "ครึ่งทางละ\n"
     ]
    },
    {
     "name": "stderr",
     "output_type": "stream",
     "text": [
      "100%|██████████| 5/5 [00:01<00:00,  2.53it/s]\n"
     ]
    },
    {
     "name": "stdout",
     "output_type": "stream",
     "text": [
      "ครึ่งทางละ\n"
     ]
    },
    {
     "name": "stderr",
     "output_type": "stream",
     "text": [
      "100%|██████████| 5/5 [00:01<00:00,  2.50it/s]\n"
     ]
    },
    {
     "name": "stdout",
     "output_type": "stream",
     "text": [
      "ครึ่งทางละ\n"
     ]
    },
    {
     "name": "stderr",
     "output_type": "stream",
     "text": [
      "100%|██████████| 5/5 [00:02<00:00,  2.30it/s]\n"
     ]
    },
    {
     "name": "stdout",
     "output_type": "stream",
     "text": [
      "ครึ่งทางละ\n"
     ]
    },
    {
     "name": "stderr",
     "output_type": "stream",
     "text": [
      "100%|██████████| 5/5 [00:01<00:00,  3.57it/s]\n"
     ]
    },
    {
     "name": "stdout",
     "output_type": "stream",
     "text": [
      "ครึ่งทางละ\n"
     ]
    },
    {
     "name": "stderr",
     "output_type": "stream",
     "text": [
      "100%|██████████| 5/5 [00:03<00:00,  1.54it/s]\n"
     ]
    },
    {
     "name": "stdout",
     "output_type": "stream",
     "text": [
      "ครึ่งทางละ\n"
     ]
    },
    {
     "name": "stderr",
     "output_type": "stream",
     "text": [
      "\r",
      "  0%|          | 0/5 [00:00<?, ?it/s]"
     ]
    },
    {
     "name": "stdout",
     "output_type": "stream",
     "text": [
      "save เสร็จหมดละ\n",
      "dataofficial-th category:  ['ครีเอเตอร์ทางการ', 'BROWN&FRIENDS', 'มาสคอต', 'สติกเกอร์แอนิเมชัน', 'ความรักและโรแมนติก', 'สติกเกอร์เติมคำ', 'การ์ตูนเด็ก', 'ดารา & คนดัง', 'ดิสนีย์', 'อนิเมะ', 'สติกเกอร์มีเสียง', 'ดวงชะตาราศี', 'เกม', 'สติกเกอร์ป๊อปอัพ', 'บิ๊กสติกเกอร์', 'ตลกขบขัน', 'ซานริโอ้', 'มังงะ', 'การ์ตูน', 'มิวสิคสติกเกอร์'] 20\n"
     ]
    },
    {
     "name": "stderr",
     "output_type": "stream",
     "text": [
      "100%|██████████| 5/5 [00:01<00:00,  2.52it/s]\n"
     ]
    },
    {
     "name": "stdout",
     "output_type": "stream",
     "text": [
      "ครึ่งทางละ\n"
     ]
    },
    {
     "name": "stderr",
     "output_type": "stream",
     "text": [
      "100%|██████████| 5/5 [00:01<00:00,  3.86it/s]\n"
     ]
    },
    {
     "name": "stdout",
     "output_type": "stream",
     "text": [
      "ครึ่งทางละ\n"
     ]
    },
    {
     "name": "stderr",
     "output_type": "stream",
     "text": [
      "100%|██████████| 5/5 [00:01<00:00,  3.42it/s]\n"
     ]
    },
    {
     "name": "stdout",
     "output_type": "stream",
     "text": [
      "ครึ่งทางละ\n"
     ]
    },
    {
     "name": "stderr",
     "output_type": "stream",
     "text": [
      "100%|██████████| 5/5 [00:01<00:00,  3.35it/s]\n"
     ]
    },
    {
     "name": "stdout",
     "output_type": "stream",
     "text": [
      "ครึ่งทางละ\n"
     ]
    },
    {
     "name": "stderr",
     "output_type": "stream",
     "text": [
      "100%|██████████| 5/5 [00:01<00:00,  3.11it/s]\n"
     ]
    },
    {
     "name": "stdout",
     "output_type": "stream",
     "text": [
      "ครึ่งทางละ\n"
     ]
    },
    {
     "name": "stderr",
     "output_type": "stream",
     "text": [
      "100%|██████████| 5/5 [00:02<00:00,  1.85it/s]\n"
     ]
    },
    {
     "name": "stdout",
     "output_type": "stream",
     "text": [
      "ครึ่งทางละ\n"
     ]
    },
    {
     "name": "stderr",
     "output_type": "stream",
     "text": [
      "100%|██████████| 5/5 [00:01<00:00,  2.69it/s]\n"
     ]
    },
    {
     "name": "stdout",
     "output_type": "stream",
     "text": [
      "ครึ่งทางละ\n"
     ]
    },
    {
     "name": "stderr",
     "output_type": "stream",
     "text": [
      "100%|██████████| 5/5 [00:02<00:00,  2.33it/s]\n"
     ]
    },
    {
     "name": "stdout",
     "output_type": "stream",
     "text": [
      "ครึ่งทางละ\n"
     ]
    },
    {
     "name": "stderr",
     "output_type": "stream",
     "text": [
      "100%|██████████| 5/5 [00:01<00:00,  2.79it/s]\n"
     ]
    },
    {
     "name": "stdout",
     "output_type": "stream",
     "text": [
      "ครึ่งทางละ\n"
     ]
    },
    {
     "name": "stderr",
     "output_type": "stream",
     "text": [
      "100%|██████████| 5/5 [00:02<00:00,  1.83it/s]\n"
     ]
    },
    {
     "name": "stdout",
     "output_type": "stream",
     "text": [
      "ครึ่งทางละ\n"
     ]
    },
    {
     "name": "stderr",
     "output_type": "stream",
     "text": [
      "100%|██████████| 5/5 [00:01<00:00,  3.55it/s]\n"
     ]
    },
    {
     "name": "stdout",
     "output_type": "stream",
     "text": [
      "ครึ่งทางละ\n"
     ]
    },
    {
     "name": "stderr",
     "output_type": "stream",
     "text": [
      "100%|██████████| 5/5 [00:01<00:00,  3.09it/s]\n"
     ]
    },
    {
     "name": "stdout",
     "output_type": "stream",
     "text": [
      "ครึ่งทางละ\n"
     ]
    },
    {
     "name": "stderr",
     "output_type": "stream",
     "text": [
      "100%|██████████| 5/5 [00:01<00:00,  2.56it/s]\n"
     ]
    },
    {
     "name": "stdout",
     "output_type": "stream",
     "text": [
      "ครึ่งทางละ\n"
     ]
    },
    {
     "name": "stderr",
     "output_type": "stream",
     "text": [
      "100%|██████████| 5/5 [00:01<00:00,  4.25it/s]\n"
     ]
    },
    {
     "name": "stdout",
     "output_type": "stream",
     "text": [
      "ครึ่งทางละ\n"
     ]
    },
    {
     "name": "stderr",
     "output_type": "stream",
     "text": [
      "100%|██████████| 5/5 [00:04<00:00,  1.19it/s]\n"
     ]
    },
    {
     "name": "stdout",
     "output_type": "stream",
     "text": [
      "ครึ่งทางละ\n"
     ]
    },
    {
     "name": "stderr",
     "output_type": "stream",
     "text": [
      "100%|██████████| 5/5 [00:01<00:00,  3.34it/s]\n"
     ]
    },
    {
     "name": "stdout",
     "output_type": "stream",
     "text": [
      "ครึ่งทางละ\n"
     ]
    },
    {
     "name": "stderr",
     "output_type": "stream",
     "text": [
      "100%|██████████| 5/5 [00:01<00:00,  2.59it/s]\n"
     ]
    },
    {
     "name": "stdout",
     "output_type": "stream",
     "text": [
      "ครึ่งทางละ\n"
     ]
    },
    {
     "name": "stderr",
     "output_type": "stream",
     "text": [
      "100%|██████████| 5/5 [00:01<00:00,  2.91it/s]\n"
     ]
    },
    {
     "name": "stdout",
     "output_type": "stream",
     "text": [
      "ครึ่งทางละ\n"
     ]
    },
    {
     "name": "stderr",
     "output_type": "stream",
     "text": [
      "100%|██████████| 5/5 [00:02<00:00,  2.49it/s]\n"
     ]
    },
    {
     "name": "stdout",
     "output_type": "stream",
     "text": [
      "ครึ่งทางละ\n"
     ]
    },
    {
     "name": "stderr",
     "output_type": "stream",
     "text": [
      "100%|██████████| 5/5 [00:01<00:00,  3.37it/s]\n"
     ]
    },
    {
     "name": "stdout",
     "output_type": "stream",
     "text": [
      "ครึ่งทางละ\n"
     ]
    },
    {
     "name": "stderr",
     "output_type": "stream",
     "text": [
      "\r",
      "  0%|          | 0/5 [00:00<?, ?it/s]"
     ]
    },
    {
     "name": "stdout",
     "output_type": "stream",
     "text": [
      "save เสร็จหมดละ\n",
      "data taste:  ['Polite Language', 'Seasonal', 'Gorgeous', 'Dialects & Slang', 'Speech Balloons', 'Humorous', 'Greetings', 'Warm & Fuzzy', 'Cute', 'Cool', 'Wacky'] 11\n"
     ]
    },
    {
     "name": "stderr",
     "output_type": "stream",
     "text": [
      "100%|██████████| 5/5 [00:01<00:00,  3.01it/s]\n"
     ]
    },
    {
     "name": "stdout",
     "output_type": "stream",
     "text": [
      "ครึ่งทางละ\n"
     ]
    },
    {
     "name": "stderr",
     "output_type": "stream",
     "text": [
      "100%|██████████| 5/5 [00:01<00:00,  4.28it/s]\n"
     ]
    },
    {
     "name": "stdout",
     "output_type": "stream",
     "text": [
      "ครึ่งทางละ\n"
     ]
    },
    {
     "name": "stderr",
     "output_type": "stream",
     "text": [
      "100%|██████████| 5/5 [00:02<00:00,  2.42it/s]\n"
     ]
    },
    {
     "name": "stdout",
     "output_type": "stream",
     "text": [
      "ครึ่งทางละ\n"
     ]
    },
    {
     "name": "stderr",
     "output_type": "stream",
     "text": [
      "100%|██████████| 5/5 [00:01<00:00,  3.35it/s]\n",
      "/opt/tljh/user/lib/python3.7/site-packages/ipykernel_launcher.py:21: UserWarning: ../non/pytorch-CycleGAN-and-pix2pix/alldata/2342.png is a low contrast image\n",
      "/opt/tljh/user/lib/python3.7/site-packages/ipykernel_launcher.py:21: UserWarning: ../non/pytorch-CycleGAN-and-pix2pix/alldata/2343.png is a low contrast image\n",
      "/opt/tljh/user/lib/python3.7/site-packages/ipykernel_launcher.py:21: UserWarning: ../non/pytorch-CycleGAN-and-pix2pix/alldata/2344.png is a low contrast image\n",
      "/opt/tljh/user/lib/python3.7/site-packages/ipykernel_launcher.py:21: UserWarning: ../non/pytorch-CycleGAN-and-pix2pix/alldata/2345.png is a low contrast image\n",
      "/opt/tljh/user/lib/python3.7/site-packages/ipykernel_launcher.py:21: UserWarning: ../non/pytorch-CycleGAN-and-pix2pix/alldata/2346.png is a low contrast image\n",
      "/opt/tljh/user/lib/python3.7/site-packages/ipykernel_launcher.py:21: UserWarning: ../non/pytorch-CycleGAN-and-pix2pix/alldata/2347.png is a low contrast image\n",
      "/opt/tljh/user/lib/python3.7/site-packages/ipykernel_launcher.py:21: UserWarning: ../non/pytorch-CycleGAN-and-pix2pix/alldata/2348.png is a low contrast image\n",
      "/opt/tljh/user/lib/python3.7/site-packages/ipykernel_launcher.py:21: UserWarning: ../non/pytorch-CycleGAN-and-pix2pix/alldata/2349.png is a low contrast image\n",
      "/opt/tljh/user/lib/python3.7/site-packages/ipykernel_launcher.py:21: UserWarning: ../non/pytorch-CycleGAN-and-pix2pix/alldata/2350.png is a low contrast image\n",
      "/opt/tljh/user/lib/python3.7/site-packages/ipykernel_launcher.py:21: UserWarning: ../non/pytorch-CycleGAN-and-pix2pix/alldata/2351.png is a low contrast image\n",
      "/opt/tljh/user/lib/python3.7/site-packages/ipykernel_launcher.py:21: UserWarning: ../non/pytorch-CycleGAN-and-pix2pix/alldata/2352.png is a low contrast image\n",
      "/opt/tljh/user/lib/python3.7/site-packages/ipykernel_launcher.py:21: UserWarning: ../non/pytorch-CycleGAN-and-pix2pix/alldata/2353.png is a low contrast image\n",
      "/opt/tljh/user/lib/python3.7/site-packages/ipykernel_launcher.py:21: UserWarning: ../non/pytorch-CycleGAN-and-pix2pix/alldata/2354.png is a low contrast image\n",
      "/opt/tljh/user/lib/python3.7/site-packages/ipykernel_launcher.py:21: UserWarning: ../non/pytorch-CycleGAN-and-pix2pix/alldata/2355.png is a low contrast image\n",
      "/opt/tljh/user/lib/python3.7/site-packages/ipykernel_launcher.py:21: UserWarning: ../non/pytorch-CycleGAN-and-pix2pix/alldata/2356.png is a low contrast image\n",
      "/opt/tljh/user/lib/python3.7/site-packages/ipykernel_launcher.py:21: UserWarning: ../non/pytorch-CycleGAN-and-pix2pix/alldata/2357.png is a low contrast image\n",
      "/opt/tljh/user/lib/python3.7/site-packages/ipykernel_launcher.py:21: UserWarning: ../non/pytorch-CycleGAN-and-pix2pix/alldata/2358.png is a low contrast image\n",
      "/opt/tljh/user/lib/python3.7/site-packages/ipykernel_launcher.py:21: UserWarning: ../non/pytorch-CycleGAN-and-pix2pix/alldata/2359.png is a low contrast image\n",
      "/opt/tljh/user/lib/python3.7/site-packages/ipykernel_launcher.py:21: UserWarning: ../non/pytorch-CycleGAN-and-pix2pix/alldata/2360.png is a low contrast image\n",
      "/opt/tljh/user/lib/python3.7/site-packages/ipykernel_launcher.py:21: UserWarning: ../non/pytorch-CycleGAN-and-pix2pix/alldata/2361.png is a low contrast image\n",
      "/opt/tljh/user/lib/python3.7/site-packages/ipykernel_launcher.py:21: UserWarning: ../non/pytorch-CycleGAN-and-pix2pix/alldata/2362.png is a low contrast image\n",
      "/opt/tljh/user/lib/python3.7/site-packages/ipykernel_launcher.py:21: UserWarning: ../non/pytorch-CycleGAN-and-pix2pix/alldata/2363.png is a low contrast image\n",
      "/opt/tljh/user/lib/python3.7/site-packages/ipykernel_launcher.py:21: UserWarning: ../non/pytorch-CycleGAN-and-pix2pix/alldata/2364.png is a low contrast image\n",
      "/opt/tljh/user/lib/python3.7/site-packages/ipykernel_launcher.py:21: UserWarning: ../non/pytorch-CycleGAN-and-pix2pix/alldata/2365.png is a low contrast image\n",
      "/opt/tljh/user/lib/python3.7/site-packages/ipykernel_launcher.py:21: UserWarning: ../non/pytorch-CycleGAN-and-pix2pix/alldata/2366.png is a low contrast image\n",
      "/opt/tljh/user/lib/python3.7/site-packages/ipykernel_launcher.py:21: UserWarning: ../non/pytorch-CycleGAN-and-pix2pix/alldata/2367.png is a low contrast image\n",
      "/opt/tljh/user/lib/python3.7/site-packages/ipykernel_launcher.py:21: UserWarning: ../non/pytorch-CycleGAN-and-pix2pix/alldata/2368.png is a low contrast image\n",
      "/opt/tljh/user/lib/python3.7/site-packages/ipykernel_launcher.py:21: UserWarning: ../non/pytorch-CycleGAN-and-pix2pix/alldata/2369.png is a low contrast image\n",
      "/opt/tljh/user/lib/python3.7/site-packages/ipykernel_launcher.py:21: UserWarning: ../non/pytorch-CycleGAN-and-pix2pix/alldata/2370.png is a low contrast image\n",
      "/opt/tljh/user/lib/python3.7/site-packages/ipykernel_launcher.py:21: UserWarning: ../non/pytorch-CycleGAN-and-pix2pix/alldata/2371.png is a low contrast image\n",
      "/opt/tljh/user/lib/python3.7/site-packages/ipykernel_launcher.py:21: UserWarning: ../non/pytorch-CycleGAN-and-pix2pix/alldata/2372.png is a low contrast image\n",
      "/opt/tljh/user/lib/python3.7/site-packages/ipykernel_launcher.py:21: UserWarning: ../non/pytorch-CycleGAN-and-pix2pix/alldata/2373.png is a low contrast image\n",
      "/opt/tljh/user/lib/python3.7/site-packages/ipykernel_launcher.py:21: UserWarning: ../non/pytorch-CycleGAN-and-pix2pix/alldata/2374.png is a low contrast image\n",
      "/opt/tljh/user/lib/python3.7/site-packages/ipykernel_launcher.py:21: UserWarning: ../non/pytorch-CycleGAN-and-pix2pix/alldata/2375.png is a low contrast image\n",
      "/opt/tljh/user/lib/python3.7/site-packages/ipykernel_launcher.py:21: UserWarning: ../non/pytorch-CycleGAN-and-pix2pix/alldata/2376.png is a low contrast image\n",
      "/opt/tljh/user/lib/python3.7/site-packages/ipykernel_launcher.py:21: UserWarning: ../non/pytorch-CycleGAN-and-pix2pix/alldata/2377.png is a low contrast image\n",
      "/opt/tljh/user/lib/python3.7/site-packages/ipykernel_launcher.py:21: UserWarning: ../non/pytorch-CycleGAN-and-pix2pix/alldata/2378.png is a low contrast image\n"
     ]
    },
    {
     "name": "stdout",
     "output_type": "stream",
     "text": [
      "ครึ่งทางละ\n"
     ]
    },
    {
     "name": "stderr",
     "output_type": "stream",
     "text": [
      "/opt/tljh/user/lib/python3.7/site-packages/ipykernel_launcher.py:21: UserWarning: ../non/pytorch-CycleGAN-and-pix2pix/alldata/2379.png is a low contrast image\n",
      "/opt/tljh/user/lib/python3.7/site-packages/ipykernel_launcher.py:21: UserWarning: ../non/pytorch-CycleGAN-and-pix2pix/alldata/2380.png is a low contrast image\n",
      "/opt/tljh/user/lib/python3.7/site-packages/ipykernel_launcher.py:21: UserWarning: ../non/pytorch-CycleGAN-and-pix2pix/alldata/2381.png is a low contrast image\n",
      "/opt/tljh/user/lib/python3.7/site-packages/ipykernel_launcher.py:21: UserWarning: ../non/pytorch-CycleGAN-and-pix2pix/alldata/2382.png is a low contrast image\n",
      "/opt/tljh/user/lib/python3.7/site-packages/ipykernel_launcher.py:21: UserWarning: ../non/pytorch-CycleGAN-and-pix2pix/alldata/2383.png is a low contrast image\n",
      "100%|██████████| 5/5 [00:01<00:00,  3.94it/s]\n"
     ]
    },
    {
     "name": "stdout",
     "output_type": "stream",
     "text": [
      "ครึ่งทางละ\n"
     ]
    },
    {
     "name": "stderr",
     "output_type": "stream",
     "text": [
      "/opt/tljh/user/lib/python3.7/site-packages/ipykernel_launcher.py:21: UserWarning: ../non/pytorch-CycleGAN-and-pix2pix/alldata/2452.png is a low contrast image\n",
      "/opt/tljh/user/lib/python3.7/site-packages/ipykernel_launcher.py:21: UserWarning: ../non/pytorch-CycleGAN-and-pix2pix/alldata/2453.png is a low contrast image\n",
      "/opt/tljh/user/lib/python3.7/site-packages/ipykernel_launcher.py:21: UserWarning: ../non/pytorch-CycleGAN-and-pix2pix/alldata/2454.png is a low contrast image\n",
      "/opt/tljh/user/lib/python3.7/site-packages/ipykernel_launcher.py:21: UserWarning: ../non/pytorch-CycleGAN-and-pix2pix/alldata/2455.png is a low contrast image\n",
      "/opt/tljh/user/lib/python3.7/site-packages/ipykernel_launcher.py:21: UserWarning: ../non/pytorch-CycleGAN-and-pix2pix/alldata/2456.png is a low contrast image\n",
      "/opt/tljh/user/lib/python3.7/site-packages/ipykernel_launcher.py:21: UserWarning: ../non/pytorch-CycleGAN-and-pix2pix/alldata/2457.png is a low contrast image\n",
      "/opt/tljh/user/lib/python3.7/site-packages/ipykernel_launcher.py:21: UserWarning: ../non/pytorch-CycleGAN-and-pix2pix/alldata/2458.png is a low contrast image\n",
      "/opt/tljh/user/lib/python3.7/site-packages/ipykernel_launcher.py:21: UserWarning: ../non/pytorch-CycleGAN-and-pix2pix/alldata/2459.png is a low contrast image\n",
      "/opt/tljh/user/lib/python3.7/site-packages/ipykernel_launcher.py:21: UserWarning: ../non/pytorch-CycleGAN-and-pix2pix/alldata/2460.png is a low contrast image\n",
      "/opt/tljh/user/lib/python3.7/site-packages/ipykernel_launcher.py:21: UserWarning: ../non/pytorch-CycleGAN-and-pix2pix/alldata/2461.png is a low contrast image\n",
      "100%|██████████| 5/5 [00:01<00:00,  2.75it/s]\n"
     ]
    },
    {
     "name": "stdout",
     "output_type": "stream",
     "text": [
      "ครึ่งทางละ\n"
     ]
    },
    {
     "name": "stderr",
     "output_type": "stream",
     "text": [
      "100%|██████████| 5/5 [00:01<00:00,  4.38it/s]\n"
     ]
    },
    {
     "name": "stdout",
     "output_type": "stream",
     "text": [
      "ครึ่งทางละ\n"
     ]
    },
    {
     "name": "stderr",
     "output_type": "stream",
     "text": [
      "100%|██████████| 5/5 [00:01<00:00,  4.03it/s]\n"
     ]
    },
    {
     "name": "stdout",
     "output_type": "stream",
     "text": [
      "ครึ่งทางละ\n"
     ]
    },
    {
     "name": "stderr",
     "output_type": "stream",
     "text": [
      "100%|██████████| 5/5 [00:01<00:00,  3.66it/s]\n"
     ]
    },
    {
     "name": "stdout",
     "output_type": "stream",
     "text": [
      "ครึ่งทางละ\n"
     ]
    },
    {
     "name": "stderr",
     "output_type": "stream",
     "text": [
      "100%|██████████| 5/5 [00:01<00:00,  3.02it/s]\n"
     ]
    },
    {
     "name": "stdout",
     "output_type": "stream",
     "text": [
      "ครึ่งทางละ\n"
     ]
    },
    {
     "name": "stderr",
     "output_type": "stream",
     "text": [
      "100%|██████████| 5/5 [00:01<00:00,  3.67it/s]\n",
      "/opt/tljh/user/lib/python3.7/site-packages/ipykernel_launcher.py:21: UserWarning: ../non/pytorch-CycleGAN-and-pix2pix/alldata/2101.png is a low contrast image\n",
      "/opt/tljh/user/lib/python3.7/site-packages/ipykernel_launcher.py:21: UserWarning: ../non/pytorch-CycleGAN-and-pix2pix/alldata/2104.png is a low contrast image\n",
      "/opt/tljh/user/lib/python3.7/site-packages/ipykernel_launcher.py:21: UserWarning: ../non/pytorch-CycleGAN-and-pix2pix/alldata/2108.png is a low contrast image\n",
      "/opt/tljh/user/lib/python3.7/site-packages/ipykernel_launcher.py:21: UserWarning: ../non/pytorch-CycleGAN-and-pix2pix/alldata/21012.png is a low contrast image\n",
      "/opt/tljh/user/lib/python3.7/site-packages/ipykernel_launcher.py:21: UserWarning: ../non/pytorch-CycleGAN-and-pix2pix/alldata/21014.png is a low contrast image\n",
      "/opt/tljh/user/lib/python3.7/site-packages/ipykernel_launcher.py:21: UserWarning: ../non/pytorch-CycleGAN-and-pix2pix/alldata/21028.png is a low contrast image\n"
     ]
    },
    {
     "name": "stdout",
     "output_type": "stream",
     "text": [
      "ครึ่งทางละ\n"
     ]
    },
    {
     "name": "stderr",
     "output_type": "stream",
     "text": [
      "\r",
      "  0%|          | 0/5 [00:00<?, ?it/s]"
     ]
    },
    {
     "name": "stdout",
     "output_type": "stream",
     "text": [
      "data character:  ['Female Characters', 'Rabbits', 'Male Characters', 'Pandas', 'Birds', 'Bears', 'Weird', 'Families & Couples', 'Seals', 'Names', 'Dogs', 'Cats', 'Food', 'Other'] 14\n"
     ]
    },
    {
     "name": "stderr",
     "output_type": "stream",
     "text": [
      "100%|██████████| 5/5 [00:01<00:00,  2.69it/s]\n"
     ]
    },
    {
     "name": "stdout",
     "output_type": "stream",
     "text": [
      "ครึ่งทางละ\n"
     ]
    },
    {
     "name": "stderr",
     "output_type": "stream",
     "text": [
      "100%|██████████| 5/5 [00:02<00:00,  2.47it/s]\n"
     ]
    },
    {
     "name": "stdout",
     "output_type": "stream",
     "text": [
      "ครึ่งทางละ\n"
     ]
    },
    {
     "name": "stderr",
     "output_type": "stream",
     "text": [
      "  0%|          | 0/5 [00:00<?, ?it/s]/home/jupyter-non_suchawit/.local/lib/python3.7/site-packages/linestickerdata/__init__.py:20: UserWarning: ./tmp/5887032/126784247.jpg is a low contrast image\n",
      "  imsave(path, im[:,:,:3])\n",
      "/home/jupyter-non_suchawit/.local/lib/python3.7/site-packages/linestickerdata/__init__.py:20: UserWarning: ./tmp/5887032/126784249.jpg is a low contrast image\n",
      "  imsave(path, im[:,:,:3])\n",
      "/home/jupyter-non_suchawit/.local/lib/python3.7/site-packages/linestickerdata/__init__.py:20: UserWarning: ./tmp/5887032/126784255.jpg is a low contrast image\n",
      "  imsave(path, im[:,:,:3])\n",
      "/home/jupyter-non_suchawit/.local/lib/python3.7/site-packages/linestickerdata/__init__.py:20: UserWarning: ./tmp/5887032/126784257.jpg is a low contrast image\n",
      "  imsave(path, im[:,:,:3])\n",
      "/home/jupyter-non_suchawit/.local/lib/python3.7/site-packages/linestickerdata/__init__.py:20: UserWarning: ./tmp/5887032/126784246.jpg is a low contrast image\n",
      "  imsave(path, im[:,:,:3])\n",
      "/home/jupyter-non_suchawit/.local/lib/python3.7/site-packages/linestickerdata/__init__.py:20: UserWarning: ./tmp/5887032/126784259.jpg is a low contrast image\n",
      "  imsave(path, im[:,:,:3])\n",
      "100%|██████████| 5/5 [00:00<00:00,  6.08it/s]\n",
      "/opt/tljh/user/lib/python3.7/site-packages/ipykernel_launcher.py:30: UserWarning: ../non/pytorch-CycleGAN-and-pix2pix/alldata/223.png is a low contrast image\n",
      "/opt/tljh/user/lib/python3.7/site-packages/ipykernel_launcher.py:30: UserWarning: ../non/pytorch-CycleGAN-and-pix2pix/alldata/226.png is a low contrast image\n",
      "/opt/tljh/user/lib/python3.7/site-packages/ipykernel_launcher.py:30: UserWarning: ../non/pytorch-CycleGAN-and-pix2pix/alldata/227.png is a low contrast image\n",
      "/opt/tljh/user/lib/python3.7/site-packages/ipykernel_launcher.py:30: UserWarning: ../non/pytorch-CycleGAN-and-pix2pix/alldata/228.png is a low contrast image\n",
      "/opt/tljh/user/lib/python3.7/site-packages/ipykernel_launcher.py:30: UserWarning: ../non/pytorch-CycleGAN-and-pix2pix/alldata/2213.png is a low contrast image\n",
      "/opt/tljh/user/lib/python3.7/site-packages/ipykernel_launcher.py:30: UserWarning: ../non/pytorch-CycleGAN-and-pix2pix/alldata/2215.png is a low contrast image\n"
     ]
    },
    {
     "name": "stdout",
     "output_type": "stream",
     "text": [
      "ครึ่งทางละ\n"
     ]
    },
    {
     "name": "stderr",
     "output_type": "stream",
     "text": [
      " 20%|██        | 1/5 [00:00<00:01,  2.36it/s]/home/jupyter-non_suchawit/.local/lib/python3.7/site-packages/linestickerdata/__init__.py:20: UserWarning: ./tmp/1606714/20520695.jpg is a low contrast image\n",
      "  imsave(path, im[:,:,:3])\n",
      "100%|██████████| 5/5 [00:02<00:00,  2.43it/s]\n"
     ]
    },
    {
     "name": "stdout",
     "output_type": "stream",
     "text": [
      "ครึ่งทางละ\n"
     ]
    },
    {
     "name": "stderr",
     "output_type": "stream",
     "text": [
      "/opt/tljh/user/lib/python3.7/site-packages/ipykernel_launcher.py:30: UserWarning: ../non/pytorch-CycleGAN-and-pix2pix/alldata/2357.png is a low contrast image\n",
      "100%|██████████| 5/5 [00:01<00:00,  4.36it/s]\n"
     ]
    },
    {
     "name": "stdout",
     "output_type": "stream",
     "text": [
      "ครึ่งทางละ\n"
     ]
    },
    {
     "name": "stderr",
     "output_type": "stream",
     "text": [
      "100%|██████████| 5/5 [00:01<00:00,  4.82it/s]\n"
     ]
    },
    {
     "name": "stdout",
     "output_type": "stream",
     "text": [
      "ครึ่งทางละ\n"
     ]
    },
    {
     "name": "stderr",
     "output_type": "stream",
     "text": [
      "100%|██████████| 5/5 [00:01<00:00,  3.80it/s]\n",
      "/opt/tljh/user/lib/python3.7/site-packages/ipykernel_launcher.py:30: UserWarning: ../non/pytorch-CycleGAN-and-pix2pix/alldata/261.png is a low contrast image\n",
      "/opt/tljh/user/lib/python3.7/site-packages/ipykernel_launcher.py:30: UserWarning: ../non/pytorch-CycleGAN-and-pix2pix/alldata/264.png is a low contrast image\n",
      "/opt/tljh/user/lib/python3.7/site-packages/ipykernel_launcher.py:30: UserWarning: ../non/pytorch-CycleGAN-and-pix2pix/alldata/268.png is a low contrast image\n",
      "/opt/tljh/user/lib/python3.7/site-packages/ipykernel_launcher.py:30: UserWarning: ../non/pytorch-CycleGAN-and-pix2pix/alldata/2612.png is a low contrast image\n",
      "/opt/tljh/user/lib/python3.7/site-packages/ipykernel_launcher.py:30: UserWarning: ../non/pytorch-CycleGAN-and-pix2pix/alldata/2614.png is a low contrast image\n",
      "/opt/tljh/user/lib/python3.7/site-packages/ipykernel_launcher.py:30: UserWarning: ../non/pytorch-CycleGAN-and-pix2pix/alldata/2628.png is a low contrast image\n"
     ]
    },
    {
     "name": "stdout",
     "output_type": "stream",
     "text": [
      "ครึ่งทางละ\n"
     ]
    },
    {
     "name": "stderr",
     "output_type": "stream",
     "text": [
      "100%|██████████| 5/5 [00:01<00:00,  3.43it/s]\n"
     ]
    },
    {
     "name": "stdout",
     "output_type": "stream",
     "text": [
      "ครึ่งทางละ\n"
     ]
    },
    {
     "name": "stderr",
     "output_type": "stream",
     "text": [
      "100%|██████████| 5/5 [00:01<00:00,  2.72it/s]\n"
     ]
    },
    {
     "name": "stdout",
     "output_type": "stream",
     "text": [
      "ครึ่งทางละ\n"
     ]
    },
    {
     "name": "stderr",
     "output_type": "stream",
     "text": [
      "100%|██████████| 5/5 [00:02<00:00,  2.41it/s]\n"
     ]
    },
    {
     "name": "stdout",
     "output_type": "stream",
     "text": [
      "ครึ่งทางละ\n"
     ]
    },
    {
     "name": "stderr",
     "output_type": "stream",
     "text": [
      "100%|██████████| 5/5 [00:00<00:00,  5.16it/s]\n"
     ]
    },
    {
     "name": "stdout",
     "output_type": "stream",
     "text": [
      "ครึ่งทางละ\n"
     ]
    },
    {
     "name": "stderr",
     "output_type": "stream",
     "text": [
      "100%|██████████| 5/5 [00:01<00:00,  2.87it/s]\n"
     ]
    },
    {
     "name": "stdout",
     "output_type": "stream",
     "text": [
      "ครึ่งทางละ\n"
     ]
    },
    {
     "name": "stderr",
     "output_type": "stream",
     "text": [
      "100%|██████████| 5/5 [00:01<00:00,  2.85it/s]\n"
     ]
    },
    {
     "name": "stdout",
     "output_type": "stream",
     "text": [
      "ครึ่งทางละ\n"
     ]
    },
    {
     "name": "stderr",
     "output_type": "stream",
     "text": [
      "100%|██████████| 5/5 [00:01<00:00,  3.35it/s]\n"
     ]
    },
    {
     "name": "stdout",
     "output_type": "stream",
     "text": [
      "ครึ่งทางละ\n",
      "save เสร็จหมดละ\n",
      "data-th taste:  ['ตลก', 'เทศกาล', 'ทักทาย', 'ภาษาท้องถิ่น, สแลง', 'น่ารัก', 'เท่', 'บอลลูนข้อความ', 'สวยเริ่ด', 'อบอุ่น', 'แปลก', 'ภาษาสุภาพ'] 11\n"
     ]
    },
    {
     "name": "stderr",
     "output_type": "stream",
     "text": [
      "100%|██████████| 5/5 [00:01<00:00,  3.01it/s]\n"
     ]
    },
    {
     "name": "stdout",
     "output_type": "stream",
     "text": [
      "ครึ่งทางละ\n"
     ]
    },
    {
     "name": "stderr",
     "output_type": "stream",
     "text": [
      "100%|██████████| 5/5 [00:01<00:00,  4.09it/s]\n"
     ]
    },
    {
     "name": "stdout",
     "output_type": "stream",
     "text": [
      "ครึ่งทางละ\n"
     ]
    },
    {
     "name": "stderr",
     "output_type": "stream",
     "text": [
      "100%|██████████| 5/5 [00:01<00:00,  4.51it/s]\n"
     ]
    },
    {
     "name": "stdout",
     "output_type": "stream",
     "text": [
      "ครึ่งทางละ\n"
     ]
    },
    {
     "name": "stderr",
     "output_type": "stream",
     "text": [
      " 40%|████      | 2/5 [00:00<00:01,  2.26it/s]/home/jupyter-non_suchawit/.local/lib/python3.7/site-packages/linestickerdata/__init__.py:20: UserWarning: ./tmp/5508246/tab_on.jpg is a low contrast image\n",
      "  imsave(path, im[:,:,:3])\n",
      "/home/jupyter-non_suchawit/.local/lib/python3.7/site-packages/linestickerdata/__init__.py:20: UserWarning: ./tmp/5508246/tab_off.jpg is a low contrast image\n",
      "  imsave(path, im[:,:,:3])\n",
      "100%|██████████| 5/5 [00:01<00:00,  2.52it/s]\n"
     ]
    },
    {
     "name": "stdout",
     "output_type": "stream",
     "text": [
      "ครึ่งทางละ\n"
     ]
    },
    {
     "name": "stderr",
     "output_type": "stream",
     "text": [
      "/opt/tljh/user/lib/python3.7/site-packages/ipykernel_launcher.py:21: UserWarning: ../non/pytorch-CycleGAN-and-pix2pix/alldata/33110.png is a low contrast image\n",
      "/opt/tljh/user/lib/python3.7/site-packages/ipykernel_launcher.py:21: UserWarning: ../non/pytorch-CycleGAN-and-pix2pix/alldata/33121.png is a low contrast image\n",
      "100%|██████████| 5/5 [00:01<00:00,  2.72it/s]\n"
     ]
    },
    {
     "name": "stdout",
     "output_type": "stream",
     "text": [
      "ครึ่งทางละ\n"
     ]
    },
    {
     "name": "stderr",
     "output_type": "stream",
     "text": [
      "100%|██████████| 5/5 [00:01<00:00,  3.88it/s]\n"
     ]
    },
    {
     "name": "stdout",
     "output_type": "stream",
     "text": [
      "ครึ่งทางละ\n"
     ]
    },
    {
     "name": "stderr",
     "output_type": "stream",
     "text": [
      "100%|██████████| 5/5 [00:01<00:00,  2.99it/s]\n"
     ]
    },
    {
     "name": "stdout",
     "output_type": "stream",
     "text": [
      "ครึ่งทางละ\n"
     ]
    },
    {
     "name": "stderr",
     "output_type": "stream",
     "text": [
      "100%|██████████| 5/5 [00:01<00:00,  3.27it/s]\n"
     ]
    },
    {
     "name": "stdout",
     "output_type": "stream",
     "text": [
      "ครึ่งทางละ\n"
     ]
    },
    {
     "name": "stderr",
     "output_type": "stream",
     "text": [
      "100%|██████████| 5/5 [00:01<00:00,  3.68it/s]\n"
     ]
    },
    {
     "name": "stdout",
     "output_type": "stream",
     "text": [
      "ครึ่งทางละ\n"
     ]
    },
    {
     "name": "stderr",
     "output_type": "stream",
     "text": [
      "100%|██████████| 5/5 [00:01<00:00,  3.80it/s]\n"
     ]
    },
    {
     "name": "stdout",
     "output_type": "stream",
     "text": [
      "ครึ่งทางละ\n"
     ]
    },
    {
     "name": "stderr",
     "output_type": "stream",
     "text": [
      "100%|██████████| 5/5 [00:01<00:00,  3.76it/s]\n"
     ]
    },
    {
     "name": "stdout",
     "output_type": "stream",
     "text": [
      "ครึ่งทางละ\n",
      "data-th character:  ['หมี', 'ชื่อ', 'สุนัข', 'หญิง', 'นก', 'อาหาร', 'แมว', 'ครอบครัว, คู่รัก', 'แมวน้ำ', 'แพนด้า', 'กระต่าย', 'อื่นๆ', 'ชาย'] 13\n"
     ]
    },
    {
     "name": "stderr",
     "output_type": "stream",
     "text": [
      "100%|██████████| 5/5 [00:01<00:00,  3.19it/s]\n"
     ]
    },
    {
     "name": "stdout",
     "output_type": "stream",
     "text": [
      "ครึ่งทางละ\n"
     ]
    },
    {
     "name": "stderr",
     "output_type": "stream",
     "text": [
      "100%|██████████| 5/5 [00:02<00:00,  2.22it/s]\n"
     ]
    },
    {
     "name": "stdout",
     "output_type": "stream",
     "text": [
      "ครึ่งทางละ\n"
     ]
    },
    {
     "name": "stderr",
     "output_type": "stream",
     "text": [
      "100%|██████████| 5/5 [00:01<00:00,  3.28it/s]\n"
     ]
    },
    {
     "name": "stdout",
     "output_type": "stream",
     "text": [
      "ครึ่งทางละ\n"
     ]
    },
    {
     "name": "stderr",
     "output_type": "stream",
     "text": [
      "  0%|          | 0/5 [00:00<?, ?it/s]/home/jupyter-non_suchawit/.local/lib/python3.7/site-packages/linestickerdata/__init__.py:20: UserWarning: ./tmp/4276928/69823852.jpg is a low contrast image\n",
      "  imsave(path, im[:,:,:3])\n",
      "/home/jupyter-non_suchawit/.local/lib/python3.7/site-packages/linestickerdata/__init__.py:20: UserWarning: ./tmp/4276928/69823848.jpg is a low contrast image\n",
      "  imsave(path, im[:,:,:3])\n",
      "/home/jupyter-non_suchawit/.local/lib/python3.7/site-packages/linestickerdata/__init__.py:20: UserWarning: ./tmp/4276928/69823850.jpg is a low contrast image\n",
      "  imsave(path, im[:,:,:3])\n",
      "/home/jupyter-non_suchawit/.local/lib/python3.7/site-packages/linestickerdata/__init__.py:20: UserWarning: ./tmp/4276928/69823851.jpg is a low contrast image\n",
      "  imsave(path, im[:,:,:3])\n",
      "/home/jupyter-non_suchawit/.local/lib/python3.7/site-packages/linestickerdata/__init__.py:20: UserWarning: ./tmp/4276928/69823849.jpg is a low contrast image\n",
      "  imsave(path, im[:,:,:3])\n",
      "100%|██████████| 5/5 [00:01<00:00,  4.64it/s]\n",
      "/opt/tljh/user/lib/python3.7/site-packages/ipykernel_launcher.py:30: UserWarning: ../non/pytorch-CycleGAN-and-pix2pix/alldata/3311.png is a low contrast image\n",
      "/opt/tljh/user/lib/python3.7/site-packages/ipykernel_launcher.py:30: UserWarning: ../non/pytorch-CycleGAN-and-pix2pix/alldata/3313.png is a low contrast image\n",
      "/opt/tljh/user/lib/python3.7/site-packages/ipykernel_launcher.py:30: UserWarning: ../non/pytorch-CycleGAN-and-pix2pix/alldata/3315.png is a low contrast image\n",
      "/opt/tljh/user/lib/python3.7/site-packages/ipykernel_launcher.py:30: UserWarning: ../non/pytorch-CycleGAN-and-pix2pix/alldata/3317.png is a low contrast image\n",
      "/opt/tljh/user/lib/python3.7/site-packages/ipykernel_launcher.py:30: UserWarning: ../non/pytorch-CycleGAN-and-pix2pix/alldata/3318.png is a low contrast image\n"
     ]
    },
    {
     "name": "stdout",
     "output_type": "stream",
     "text": [
      "ครึ่งทางละ\n"
     ]
    },
    {
     "name": "stderr",
     "output_type": "stream",
     "text": [
      "100%|██████████| 5/5 [00:01<00:00,  3.39it/s]\n"
     ]
    },
    {
     "name": "stdout",
     "output_type": "stream",
     "text": [
      "ครึ่งทางละ\n"
     ]
    },
    {
     "name": "stderr",
     "output_type": "stream",
     "text": [
      "100%|██████████| 5/5 [00:01<00:00,  3.32it/s]\n"
     ]
    },
    {
     "name": "stdout",
     "output_type": "stream",
     "text": [
      "ครึ่งทางละ\n"
     ]
    },
    {
     "name": "stderr",
     "output_type": "stream",
     "text": [
      "100%|██████████| 5/5 [00:01<00:00,  2.62it/s]\n"
     ]
    },
    {
     "name": "stdout",
     "output_type": "stream",
     "text": [
      "ครึ่งทางละ\n"
     ]
    },
    {
     "name": "stderr",
     "output_type": "stream",
     "text": [
      "100%|██████████| 5/5 [00:01<00:00,  3.47it/s]\n"
     ]
    },
    {
     "name": "stdout",
     "output_type": "stream",
     "text": [
      "ครึ่งทางละ\n"
     ]
    },
    {
     "name": "stderr",
     "output_type": "stream",
     "text": [
      "100%|██████████| 5/5 [00:01<00:00,  2.62it/s]\n"
     ]
    },
    {
     "name": "stdout",
     "output_type": "stream",
     "text": [
      "ครึ่งทางละ\n"
     ]
    },
    {
     "name": "stderr",
     "output_type": "stream",
     "text": [
      "100%|██████████| 5/5 [00:01<00:00,  2.60it/s]\n"
     ]
    },
    {
     "name": "stdout",
     "output_type": "stream",
     "text": [
      "ครึ่งทางละ\n"
     ]
    },
    {
     "name": "stderr",
     "output_type": "stream",
     "text": [
      "100%|██████████| 5/5 [00:01<00:00,  4.07it/s]\n"
     ]
    },
    {
     "name": "stdout",
     "output_type": "stream",
     "text": [
      "ครึ่งทางละ\n"
     ]
    },
    {
     "name": "stderr",
     "output_type": "stream",
     "text": [
      "100%|██████████| 5/5 [00:00<00:00,  5.96it/s]\n"
     ]
    },
    {
     "name": "stdout",
     "output_type": "stream",
     "text": [
      "ครึ่งทางละ\n"
     ]
    },
    {
     "name": "stderr",
     "output_type": "stream",
     "text": [
      "  0%|          | 0/5 [00:00<?, ?it/s]/home/jupyter-non_suchawit/.local/lib/python3.7/site-packages/linestickerdata/__init__.py:20: UserWarning: ./tmp/9501200/tab_on.jpg is a low contrast image\n",
      "  imsave(path, im[:,:,:3])\n",
      "/home/jupyter-non_suchawit/.local/lib/python3.7/site-packages/linestickerdata/__init__.py:20: UserWarning: ./tmp/9501200/tab_off.jpg is a low contrast image\n",
      "  imsave(path, im[:,:,:3])\n",
      " 40%|████      | 2/5 [00:00<00:00, 10.73it/s]/home/jupyter-non_suchawit/.local/lib/python3.7/site-packages/linestickerdata/__init__.py:20: UserWarning: ./tmp/1768002/24388875.jpg is a low contrast image\n",
      "  imsave(path, im[:,:,:3])\n",
      "/home/jupyter-non_suchawit/.local/lib/python3.7/site-packages/linestickerdata/__init__.py:20: UserWarning: ./tmp/1768002/24388877.jpg is a low contrast image\n",
      "  imsave(path, im[:,:,:3])\n",
      "/home/jupyter-non_suchawit/.local/lib/python3.7/site-packages/linestickerdata/__init__.py:20: UserWarning: ./tmp/1768002/24388872.jpg is a low contrast image\n",
      "  imsave(path, im[:,:,:3])\n",
      "/home/jupyter-non_suchawit/.local/lib/python3.7/site-packages/linestickerdata/__init__.py:20: UserWarning: ./tmp/1768002/24388876.jpg is a low contrast image\n",
      "  imsave(path, im[:,:,:3])\n",
      "/home/jupyter-non_suchawit/.local/lib/python3.7/site-packages/linestickerdata/__init__.py:20: UserWarning: ./tmp/1768002/24388879.jpg is a low contrast image\n",
      "  imsave(path, im[:,:,:3])\n",
      "/home/jupyter-non_suchawit/.local/lib/python3.7/site-packages/linestickerdata/__init__.py:20: UserWarning: ./tmp/1768002/tab_on.jpg is a low contrast image\n",
      "  imsave(path, im[:,:,:3])\n",
      "/home/jupyter-non_suchawit/.local/lib/python3.7/site-packages/linestickerdata/__init__.py:20: UserWarning: ./tmp/1768002/24388878.jpg is a low contrast image\n",
      "  imsave(path, im[:,:,:3])\n",
      "/home/jupyter-non_suchawit/.local/lib/python3.7/site-packages/linestickerdata/__init__.py:20: UserWarning: ./tmp/1768002/24388873.jpg is a low contrast image\n",
      "  imsave(path, im[:,:,:3])\n",
      "/home/jupyter-non_suchawit/.local/lib/python3.7/site-packages/linestickerdata/__init__.py:20: UserWarning: ./tmp/1768002/tab_off.jpg is a low contrast image\n",
      "  imsave(path, im[:,:,:3])\n",
      "/home/jupyter-non_suchawit/.local/lib/python3.7/site-packages/linestickerdata/__init__.py:20: UserWarning: ./tmp/1768002/24388874.jpg is a low contrast image\n",
      "  imsave(path, im[:,:,:3])\n",
      "100%|██████████| 5/5 [00:00<00:00,  8.09it/s]\n",
      "/opt/tljh/user/lib/python3.7/site-packages/ipykernel_launcher.py:30: UserWarning: ../non/pytorch-CycleGAN-and-pix2pix/alldata/31217.png is a low contrast image\n",
      "/opt/tljh/user/lib/python3.7/site-packages/ipykernel_launcher.py:30: UserWarning: ../non/pytorch-CycleGAN-and-pix2pix/alldata/31219.png is a low contrast image\n",
      "/opt/tljh/user/lib/python3.7/site-packages/ipykernel_launcher.py:30: UserWarning: ../non/pytorch-CycleGAN-and-pix2pix/alldata/31220.png is a low contrast image\n",
      "/opt/tljh/user/lib/python3.7/site-packages/ipykernel_launcher.py:30: UserWarning: ../non/pytorch-CycleGAN-and-pix2pix/alldata/31221.png is a low contrast image\n",
      "/opt/tljh/user/lib/python3.7/site-packages/ipykernel_launcher.py:30: UserWarning: ../non/pytorch-CycleGAN-and-pix2pix/alldata/31222.png is a low contrast image\n",
      "/opt/tljh/user/lib/python3.7/site-packages/ipykernel_launcher.py:30: UserWarning: ../non/pytorch-CycleGAN-and-pix2pix/alldata/31223.png is a low contrast image\n",
      "/opt/tljh/user/lib/python3.7/site-packages/ipykernel_launcher.py:30: UserWarning: ../non/pytorch-CycleGAN-and-pix2pix/alldata/31224.png is a low contrast image\n",
      "/opt/tljh/user/lib/python3.7/site-packages/ipykernel_launcher.py:30: UserWarning: ../non/pytorch-CycleGAN-and-pix2pix/alldata/31225.png is a low contrast image\n",
      "/opt/tljh/user/lib/python3.7/site-packages/ipykernel_launcher.py:30: UserWarning: ../non/pytorch-CycleGAN-and-pix2pix/alldata/31226.png is a low contrast image\n",
      "/opt/tljh/user/lib/python3.7/site-packages/ipykernel_launcher.py:30: UserWarning: ../non/pytorch-CycleGAN-and-pix2pix/alldata/31227.png is a low contrast image\n",
      "/opt/tljh/user/lib/python3.7/site-packages/ipykernel_launcher.py:30: UserWarning: ../non/pytorch-CycleGAN-and-pix2pix/alldata/31228.png is a low contrast image\n",
      "/opt/tljh/user/lib/python3.7/site-packages/ipykernel_launcher.py:30: UserWarning: ../non/pytorch-CycleGAN-and-pix2pix/alldata/31229.png is a low contrast image\n"
     ]
    },
    {
     "name": "stdout",
     "output_type": "stream",
     "text": [
      "ครึ่งทางละ\n",
      "save เสร็จหมดละ\n"
     ]
    }
   ],
   "source": [
    "from linestickerdata import get_image_paths\n",
    "from skimage.io import imshow, imread,imsave\n",
    "len(available)\n",
    "i = 0\n",
    "for row in available:\n",
    "    if 'category' in row:\n",
    "        print(row['folder'], 'category: ', row['category'],len(row['category']))\n",
    "        for p in range(len(row['category'])):\n",
    "            paths = get_image_paths(folder=row['folder'], character= row['category'][p], n=5, num_workers=1, seed=0)\n",
    "            for im in range(len(paths)):\n",
    "                rim = imread(paths[im])\n",
    "                imsave(os.path.join(path,str(i)+str(p)+str(im)+\".png\"), rim)\n",
    "                if im == 50:\n",
    "                    print(\"ครึ่งทางละ\")\n",
    "    if 'taste' in row:\n",
    "        print(row['folder'], 'taste: ', row['taste'],len(row['taste']))\n",
    "        for p in range(len(row['taste'])):\n",
    "            paths = get_image_paths(folder=row['folder'], character= row['taste'][p], n=5, num_workers=1, seed=0)\n",
    "            for im in range(len(paths)):\n",
    "                rim = imread(paths[im])\n",
    "                imsave(os.path.join(path,str(i)+str(p)+str(im)+\".png\"), rim)\n",
    "                if im == 50:\n",
    "                    print(\"ครึ่งทางละ\")\n",
    "    if 'character' in row:\n",
    "        print(row['folder'], 'character: ', row['character'],len(row['character']))\n",
    "        for p in range(len(row['character'])):\n",
    "            paths = get_image_paths(folder=row['folder'], character= row['character'][p], n=5, num_workers=1, seed=0)\n",
    "            for im in range(len(paths)):\n",
    "                rim = imread(paths[im])\n",
    "                imsave(os.path.join(path,str(i)+str(p)+str(im)+\".png\"), rim)\n",
    "                if im == 50:\n",
    "                    print(\"ครึ่งทางละ\")\n",
    "    i = i+1\n",
    "    print(\"save เสร็จหมดละ\")            \n",
    "                     \n",
    "        \n",
    "            \n"
   ]
  },
  {
   "cell_type": "code",
   "execution_count": 2,
   "metadata": {},
   "outputs": [
    {
     "name": "stderr",
     "output_type": "stream",
     "text": [
      "100%|██████████| 5/5 [00:04<00:00,  1.19it/s]\n",
      "100%|██████████| 5/5 [00:03<00:00,  1.38it/s]\n",
      "100%|██████████| 5/5 [00:05<00:00,  1.00s/it]\n",
      "100%|██████████| 5/5 [00:02<00:00,  2.04it/s]\n",
      "100%|██████████| 5/5 [00:02<00:00,  1.82it/s]\n",
      "100%|██████████| 5/5 [00:02<00:00,  1.80it/s]\n"
     ]
    }
   ],
   "source": [
    "from linestickerdata import get_image_paths\n",
    "paths = get_image_paths(folder=\"data\", character=\"Female Characters\", n=5, num_workers=1, seed=0)\n",
    "paths = get_image_paths(folder=\"data\", taste=\"Polite Language\",n=5, num_workers=1, seed=0)\n",
    "paths = get_image_paths(folder=\"dataofficial\", category=\"Big stickers\", n=5, num_workers=1, seed=0)\n",
    "paths = get_image_paths(folder=\"dataofficial-th\", category=\"มาสคอต\", n=5, num_workers=1, seed=0)\n",
    "paths = get_image_paths(folder=\"data-th\", taste=\"ตลก\", n=5, num_workers=1, seed=0)\n",
    "paths = get_image_paths(folder=\"data-th\", character=\"หมี\", n=5, num_workers=1, seed=0)"
   ]
  },
  {
   "cell_type": "code",
   "execution_count": 13,
   "metadata": {
    "scrolled": true
   },
   "outputs": [
    {
     "name": "stderr",
     "output_type": "stream",
     "text": [
      "100%|██████████| 5/5 [00:01<00:00,  3.10it/s]\n"
     ]
    },
    {
     "data": {
      "image/png": "[encoded data removed]",
      "text/plain": [
       "<Figure size 432x288 with 16 Axes>"
      ]
     },
     "metadata": {
      "needs_background": "light"
     },
     "output_type": "display_data"
    }
   ],
   "source": [
    "import numpy as np\n",
    "import matplotlib.pyplot as plt\n",
    "from skimage.io import imshow, imread\n",
    "from linestickerdata import get_image_paths\n",
    "paths = get_image_paths(folder=\"data-th\", character=\"อาหาร\", n=5, num_workers=1, seed=0)\n",
    "width=5\n",
    "height=5\n",
    "rows = 4\n",
    "cols = 4\n",
    "axes=[]\n",
    "fig=plt.figure()\n",
    "\n",
    "for a in range(rows*cols):\n",
    "    im = imread(paths[a])\n",
    "    axes.append( fig.add_subplot(rows, cols, a+1) )\n",
    "    subplot_title=(\"Stickers\"+str(a+1))\n",
    "    axes[-1].set_title(subplot_title)  \n",
    "    plt.imshow(im)\n",
    "fig\n",
    "plt.show()"
   ]
  },
  {
   "cell_type": "code",
   "execution_count": null,
   "metadata": {},
   "outputs": [],
   "source": []
  }
 ],
 "metadata": {
  "kernelspec": {
   "display_name": "Python 3",
   "language": "python",
   "name": "python3"
  },
  "language_info": {
   "codemirror_mode": {
    "name": "ipython",
    "version": 3
   },
   "file_extension": ".py",
   "mimetype": "text/x-python",
   "name": "python",
   "nbconvert_exporter": "python",
   "pygments_lexer": "ipython3",
   "version": "3.7.7"
  }
 },
 "nbformat": 4,
 "nbformat_minor": 4
}
