{
 "cells": [
  {
   "cell_type": "code",
   "execution_count": 2,
   "metadata": {},
   "outputs": [
    {
     "name": "stdout",
     "output_type": "stream",
     "text": [
      "dataofficial category:  ['Pop-Up Stickers', 'Big stickers', 'BROWN & FRIENDS', 'Animated Stickers', 'Humor and Entertainment', 'Anime', 'Games', 'With Voice or Sound', 'Kids Cartoons', 'Horoscope', 'Music sticker', 'TV Stars', 'Cartoons', 'Love and Romance', 'Manga', \"Official Creators' Stickers\", 'Disney', 'Sanrio', 'Characters', 'Custom stickers']\n",
      "dataofficial-th category:  ['ครีเอเตอร์ทางการ', 'BROWN&FRIENDS', 'มาสคอต', 'สติกเกอร์แอนิเมชัน', 'ความรักและโรแมนติก', 'สติกเกอร์เติมคำ', 'การ์ตูนเด็ก', 'ดารา & คนดัง', 'ดิสนีย์', 'อนิเมะ', 'สติกเกอร์มีเสียง', 'ดวงชะตาราศี', 'เกม', 'สติกเกอร์ป๊อปอัพ', 'บิ๊กสติกเกอร์', 'ตลกขบขัน', 'ซานริโอ้', 'มังงะ', 'การ์ตูน', 'มิวสิคสติกเกอร์']\n",
      "data taste:  ['Polite Language', 'Seasonal', 'Gorgeous', 'Dialects & Slang', 'Speech Balloons', 'Humorous', 'Greetings', 'Warm & Fuzzy', 'Cute', 'Cool', 'Wacky']\n",
      "data character:  ['Female Characters', 'Rabbits', 'Male Characters', 'Pandas', 'Birds', 'Bears', 'Weird', 'Families & Couples', 'Seals', 'Names', 'Dogs', 'Cats', 'Food', 'Other']\n",
      "data-th taste:  ['ตลก', 'เทศกาล', 'ทักทาย', 'ภาษาท้องถิ่น, สแลง', 'น่ารัก', 'เท่', 'บอลลูนข้อความ', 'สวยเริ่ด', 'อบอุ่น', 'แปลก', 'ภาษาสุภาพ']\n",
      "data-th character:  ['หมี', 'ชื่อ', 'สุนัข', 'หญิง', 'นก', 'อาหาร', 'แมว', 'ครอบครัว, คู่รัก', 'แมวน้ำ', 'แพนด้า', 'กระต่าย', 'อื่นๆ', 'ชาย']\n"
     ]
    }
   ],
   "source": [
    "from linestickerdata import list_available\n",
    "import matplotlib.pyplot as plt\n",
    "available = list_available()\n",
    "for row in available:\n",
    "    if 'taste' in row:\n",
    "        print(row['folder'], 'taste: ', row['taste'])\n",
    "    if 'category' in row:\n",
    "        print(row['folder'], 'category: ', row['category'])\n",
    "    if 'character' in row:\n",
    "        print(row['folder'], 'character: ', row['character'])"
   ]
  },
  {
   "cell_type": "code",
   "execution_count": 3,
   "metadata": {},
   "outputs": [],
   "source": [
    "import os"
   ]
  },
  {
   "cell_type": "code",
   "execution_count": 5,
   "metadata": {},
   "outputs": [],
   "source": [
    "path = \"./alldata\"\n",
    "if os.path.isdir(path) == False:\n",
    "    os.mkdir(path)"
   ]
  },
  {
   "cell_type": "code",
   "execution_count": 9,
   "metadata": {
    "scrolled": true
   },
   "outputs": [
    {
     "name": "stderr",
     "output_type": "stream",
     "text": [
      "\r",
      "  0%|          | 0/5 [00:00<?, ?it/s]"
     ]
    },
    {
     "name": "stdout",
     "output_type": "stream",
     "text": [
      "dataofficial category:  ['Pop-Up Stickers', 'Big stickers', 'BROWN & FRIENDS', 'Animated Stickers', 'Humor and Entertainment', 'Anime', 'Games', 'With Voice or Sound', 'Kids Cartoons', 'Horoscope', 'Music sticker', 'TV Stars', 'Cartoons', 'Love and Romance', 'Manga', \"Official Creators' Stickers\", 'Disney', 'Sanrio', 'Characters', 'Custom stickers'] 20\n"
     ]
    },
    {
     "name": "stderr",
     "output_type": "stream",
     "text": [
      "100%|██████████| 5/5 [00:01<00:00,  4.07it/s]\n"
     ]
    },
    {
     "name": "stdout",
     "output_type": "stream",
     "text": [
      "ครึ่งทางละ\n"
     ]
    },
    {
     "name": "stderr",
     "output_type": "stream",
     "text": [
      "100%|██████████| 5/5 [00:04<00:00,  1.17it/s]\n"
     ]
    },
    {
     "name": "stdout",
     "output_type": "stream",
     "text": [
      "ครึ่งทางละ\n"
     ]
    },
    {
     "name": "stderr",
     "output_type": "stream",
     "text": [
      "100%|██████████| 5/5 [00:01<00:00,  3.04it/s]\n"
     ]
    },
    {
     "name": "stdout",
     "output_type": "stream",
     "text": [
      "ครึ่งทางละ\n"
     ]
    },
    {
     "name": "stderr",
     "output_type": "stream",
     "text": [
      "100%|██████████| 5/5 [00:01<00:00,  3.71it/s]\n"
     ]
    },
    {
     "name": "stdout",
     "output_type": "stream",
     "text": [
      "ครึ่งทางละ\n"
     ]
    },
    {
     "name": "stderr",
     "output_type": "stream",
     "text": [
      "100%|██████████| 5/5 [00:01<00:00,  2.51it/s]\n"
     ]
    },
    {
     "name": "stdout",
     "output_type": "stream",
     "text": [
      "ครึ่งทางละ\n"
     ]
    },
    {
     "name": "stderr",
     "output_type": "stream",
     "text": [
      "100%|██████████| 5/5 [00:01<00:00,  2.80it/s]\n"
     ]
    },
    {
     "name": "stdout",
     "output_type": "stream",
     "text": [
      "ครึ่งทางละ\n"
     ]
    },
    {
     "name": "stderr",
     "output_type": "stream",
     "text": [
      "100%|██████████| 5/5 [00:01<00:00,  2.57it/s]\n"
     ]
    },
    {
     "name": "stdout",
     "output_type": "stream",
     "text": [
      "ครึ่งทางละ\n"
     ]
    },
    {
     "name": "stderr",
     "output_type": "stream",
     "text": [
      "100%|██████████| 5/5 [00:01<00:00,  3.77it/s]\n"
     ]
    },
    {
     "name": "stdout",
     "output_type": "stream",
     "text": [
      "ครึ่งทางละ\n"
     ]
    },
    {
     "name": "stderr",
     "output_type": "stream",
     "text": [
      "100%|██████████| 5/5 [00:01<00:00,  2.69it/s]\n"
     ]
    },
    {
     "name": "stdout",
     "output_type": "stream",
     "text": [
      "ครึ่งทางละ\n"
     ]
    },
    {
     "name": "stderr",
     "output_type": "stream",
     "text": [
      "100%|██████████| 5/5 [00:01<00:00,  3.05it/s]\n"
     ]
    },
    {
     "name": "stdout",
     "output_type": "stream",
     "text": [
      "ครึ่งทางละ\n"
     ]
    },
    {
     "name": "stderr",
     "output_type": "stream",
     "text": [
      "100%|██████████| 5/5 [00:01<00:00,  3.37it/s]\n"
     ]
    },
    {
     "name": "stdout",
     "output_type": "stream",
     "text": [
      "ครึ่งทางละ\n"
     ]
    },
    {
     "name": "stderr",
     "output_type": "stream",
     "text": [
      "100%|██████████| 5/5 [00:02<00:00,  2.32it/s]\n"
     ]
    },
    {
     "name": "stdout",
     "output_type": "stream",
     "text": [
      "ครึ่งทางละ\n"
     ]
    },
    {
     "name": "stderr",
     "output_type": "stream",
     "text": [
      "100%|██████████| 5/5 [00:01<00:00,  2.89it/s]\n"
     ]
    },
    {
     "name": "stdout",
     "output_type": "stream",
     "text": [
      "ครึ่งทางละ\n"
     ]
    },
    {
     "name": "stderr",
     "output_type": "stream",
     "text": [
      "100%|██████████| 5/5 [00:01<00:00,  2.99it/s]\n"
     ]
    },
    {
     "name": "stdout",
     "output_type": "stream",
     "text": [
      "ครึ่งทางละ\n"
     ]
    },
    {
     "name": "stderr",
     "output_type": "stream",
     "text": [
      "100%|██████████| 5/5 [00:01<00:00,  2.58it/s]\n"
     ]
    },
    {
     "name": "stdout",
     "output_type": "stream",
     "text": [
      "ครึ่งทางละ\n"
     ]
    },
    {
     "name": "stderr",
     "output_type": "stream",
     "text": [
      "100%|██████████| 5/5 [00:01<00:00,  2.53it/s]\n"
     ]
    },
    {
     "name": "stdout",
     "output_type": "stream",
     "text": [
      "ครึ่งทางละ\n"
     ]
    },
    {
     "name": "stderr",
     "output_type": "stream",
     "text": [
      "100%|██████████| 5/5 [00:01<00:00,  2.50it/s]\n"
     ]
    },
    {
     "name": "stdout",
     "output_type": "stream",
     "text": [
      "ครึ่งทางละ\n"
     ]
    },
    {
     "name": "stderr",
     "output_type": "stream",
     "text": [
      "100%|██████████| 5/5 [00:02<00:00,  2.30it/s]\n"
     ]
    },
    {
     "name": "stdout",
     "output_type": "stream",
     "text": [
      "ครึ่งทางละ\n"
     ]
    },
    {
     "name": "stderr",
     "output_type": "stream",
     "text": [
      "100%|██████████| 5/5 [00:01<00:00,  3.57it/s]\n"
     ]
    },
    {
     "name": "stdout",
     "output_type": "stream",
     "text": [
      "ครึ่งทางละ\n"
     ]
    },
    {
     "name": "stderr",
     "output_type": "stream",
     "text": [
      "100%|██████████| 5/5 [00:03<00:00,  1.54it/s]\n"
     ]
    },
    {
     "name": "stdout",
     "output_type": "stream",
     "text": [
      "ครึ่งทางละ\n"
     ]
    },
    {
     "name": "stderr",
     "output_type": "stream",
     "text": [
      "\r",
      "  0%|          | 0/5 [00:00<?, ?it/s]"
     ]
    },
    {
     "name": "stdout",
     "output_type": "stream",
     "text": [
      "save เสร็จหมดละ\n",
      "dataofficial-th category:  ['ครีเอเตอร์ทางการ', 'BROWN&FRIENDS', 'มาสคอต', 'สติกเกอร์แอนิเมชัน', 'ความรักและโรแมนติก', 'สติกเกอร์เติมคำ', 'การ์ตูนเด็ก', 'ดารา & คนดัง', 'ดิสนีย์', 'อนิเมะ', 'สติกเกอร์มีเสียง', 'ดวงชะตาราศี', 'เกม', 'สติกเกอร์ป๊อปอัพ', 'บิ๊กสติกเกอร์', 'ตลกขบขัน', 'ซานริโอ้', 'มังงะ', 'การ์ตูน', 'มิวสิคสติกเกอร์'] 20\n"
     ]
    },
    {
     "name": "stderr",
     "output_type": "stream",
     "text": [
      "100%|██████████| 5/5 [00:01<00:00,  2.52it/s]\n"
     ]
    },
    {
     "name": "stdout",
     "output_type": "stream",
     "text": [
      "ครึ่งทางละ\n"
     ]
    },
    {
     "name": "stderr",
     "output_type": "stream",
     "text": [
      "100%|██████████| 5/5 [00:01<00:00,  3.86it/s]\n"
     ]
    },
    {
     "name": "stdout",
     "output_type": "stream",
     "text": [
      "ครึ่งทางละ\n"
     ]
    },
    {
     "name": "stderr",
     "output_type": "stream",
     "text": [
      "100%|██████████| 5/5 [00:01<00:00,  3.42it/s]\n"
     ]
    },
    {
     "name": "stdout",
     "output_type": "stream",
     "text": [
      "ครึ่งทางละ\n"
     ]
    },
    {
     "name": "stderr",
     "output_type": "stream",
     "text": [
      "100%|██████████| 5/5 [00:01<00:00,  3.35it/s]\n"
     ]
    },
    {
     "name": "stdout",
     "output_type": "stream",
     "text": [
      "ครึ่งทางละ\n"
     ]
    },
    {
     "name": "stderr",
     "output_type": "stream",
     "text": [
      "100%|██████████| 5/5 [00:01<00:00,  3.11it/s]\n"
     ]
    },
    {
     "name": "stdout",
     "output_type": "stream",
     "text": [
      "ครึ่งทางละ\n"
     ]
    },
    {
     "name": "stderr",
     "output_type": "stream",
     "text": [
      "100%|██████████| 5/5 [00:02<00:00,  1.85it/s]\n"
     ]
    },
    {
     "name": "stdout",
     "output_type": "stream",
     "text": [
      "ครึ่งทางละ\n"
     ]
    },
    {
     "name": "stderr",
     "output_type": "stream",
     "text": [
      "100%|██████████| 5/5 [00:01<00:00,  2.69it/s]\n"
     ]
    },
    {
     "name": "stdout",
     "output_type": "stream",
     "text": [
      "ครึ่งทางละ\n"
     ]
    },
    {
     "name": "stderr",
     "output_type": "stream",
     "text": [
      "100%|██████████| 5/5 [00:02<00:00,  2.33it/s]\n"
     ]
    },
    {
     "name": "stdout",
     "output_type": "stream",
     "text": [
      "ครึ่งทางละ\n"
     ]
    },
    {
     "name": "stderr",
     "output_type": "stream",
     "text": [
      "100%|██████████| 5/5 [00:01<00:00,  2.79it/s]\n"
     ]
    },
    {
     "name": "stdout",
     "output_type": "stream",
     "text": [
      "ครึ่งทางละ\n"
     ]
    },
    {
     "name": "stderr",
     "output_type": "stream",
     "text": [
      "100%|██████████| 5/5 [00:02<00:00,  1.83it/s]\n"
     ]
    },
    {
     "name": "stdout",
     "output_type": "stream",
     "text": [
      "ครึ่งทางละ\n"
     ]
    },
    {
     "name": "stderr",
     "output_type": "stream",
     "text": [
      "100%|██████████| 5/5 [00:01<00:00,  3.55it/s]\n"
     ]
    },
    {
     "name": "stdout",
     "output_type": "stream",
     "text": [
      "ครึ่งทางละ\n"
     ]
    },
    {
     "name": "stderr",
     "output_type": "stream",
     "text": [
      "100%|██████████| 5/5 [00:01<00:00,  3.09it/s]\n"
     ]
    },
    {
     "name": "stdout",
     "output_type": "stream",
     "text": [
      "ครึ่งทางละ\n"
     ]
    },
    {
     "name": "stderr",
     "output_type": "stream",
     "text": [
      "100%|██████████| 5/5 [00:01<00:00,  2.56it/s]\n"
     ]
    },
    {
     "name": "stdout",
     "output_type": "stream",
     "text": [
      "ครึ่งทางละ\n"
     ]
    },
    {
     "name": "stderr",
     "output_type": "stream",
     "text": [
      "100%|██████████| 5/5 [00:01<00:00,  4.25it/s]\n"
     ]
    },
    {
     "name": "stdout",
     "output_type": "stream",
     "text": [
      "ครึ่งทางละ\n"
     ]
    },
    {
     "name": "stderr",
     "output_type": "stream",
     "text": [
      "100%|██████████| 5/5 [00:04<00:00,  1.19it/s]\n"
     ]
    },
    {
     "name": "stdout",
     "output_type": "stream",
     "text": [
      "ครึ่งทางละ\n"
     ]
    },
    {
     "name": "stderr",
     "output_type": "stream",
     "text": [
      "100%|██████████| 5/5 [00:01<00:00,  3.34it/s]\n"
     ]
    },
    {
     "name": "stdout",
     "output_type": "stream",
     "text": [
      "ครึ่งทางละ\n"
     ]
    },
    {
     "name": "stderr",
     "output_type": "stream",
     "text": [
      "100%|██████████| 5/5 [00:01<00:00,  2.59it/s]\n"
     ]
    },
    {
     "name": "stdout",
     "output_type": "stream",
     "text": [
      "ครึ่งทางละ\n"
     ]
    },
    {
     "name": "stderr",
     "output_type": "stream",
     "text": [
      "100%|██████████| 5/5 [00:01<00:00,  2.91it/s]\n"
     ]
    },
    {
     "name": "stdout",
     "output_type": "stream",
     "text": [
      "ครึ่งทางละ\n"
     ]
    },
    {
     "name": "stderr",
     "output_type": "stream",
     "text": [
      "100%|██████████| 5/5 [00:02<00:00,  2.49it/s]\n"
     ]
    },
    {
     "name": "stdout",
     "output_type": "stream",
     "text": [
      "ครึ่งทางละ\n"
     ]
    },
    {
     "name": "stderr",
     "output_type": "stream",
     "text": [
      "100%|██████████| 5/5 [00:01<00:00,  3.37it/s]\n"
     ]
    },
    {
     "name": "stdout",
     "output_type": "stream",
     "text": [
      "ครึ่งทางละ\n"
     ]
    },
    {
     "name": "stderr",
     "output_type": "stream",
     "text": [
      "\r",
      "  0%|          | 0/5 [00:00<?, ?it/s]"
     ]
    },
    {
     "name": "stdout",
     "output_type": "stream",
     "text": [
      "save เสร็จหมดละ\n",
      "data taste:  ['Polite Language', 'Seasonal', 'Gorgeous', 'Dialects & Slang', 'Speech Balloons', 'Humorous', 'Greetings', 'Warm & Fuzzy', 'Cute', 'Cool', 'Wacky'] 11\n"
     ]
    },
    {
     "name": "stderr",
     "output_type": "stream",
     "text": [
      "100%|██████████| 5/5 [00:01<00:00,  3.01it/s]\n"
     ]
    },
    {
     "name": "stdout",
     "output_type": "stream",
     "text": [
      "ครึ่งทางละ\n"
     ]
    },
    {
     "name": "stderr",
     "output_type": "stream",
     "text": [
      "100%|██████████| 5/5 [00:01<00:00,  4.28it/s]\n"
     ]
    },
    {
     "name": "stdout",
     "output_type": "stream",
     "text": [
      "ครึ่งทางละ\n"
     ]
    },
    {
     "name": "stderr",
     "output_type": "stream",
     "text": [
      "100%|██████████| 5/5 [00:02<00:00,  2.42it/s]\n"
     ]
    },
    {
     "name": "stdout",
     "output_type": "stream",
     "text": [
      "ครึ่งทางละ\n"
     ]
    },
    {
     "name": "stderr",
     "output_type": "stream",
     "text": [
      "100%|██████████| 5/5 [00:01<00:00,  3.35it/s]\n",
      "/opt/tljh/user/lib/python3.7/site-packages/ipykernel_launcher.py:21: UserWarning: ../non/pytorch-CycleGAN-and-pix2pix/alldata/2342.png is a low contrast image\n",
      "/opt/tljh/user/lib/python3.7/site-packages/ipykernel_launcher.py:21: UserWarning: ../non/pytorch-CycleGAN-and-pix2pix/alldata/2343.png is a low contrast image\n",
      "/opt/tljh/user/lib/python3.7/site-packages/ipykernel_launcher.py:21: UserWarning: ../non/pytorch-CycleGAN-and-pix2pix/alldata/2344.png is a low contrast image\n",
      "/opt/tljh/user/lib/python3.7/site-packages/ipykernel_launcher.py:21: UserWarning: ../non/pytorch-CycleGAN-and-pix2pix/alldata/2345.png is a low contrast image\n",
      "/opt/tljh/user/lib/python3.7/site-packages/ipykernel_launcher.py:21: UserWarning: ../non/pytorch-CycleGAN-and-pix2pix/alldata/2346.png is a low contrast image\n",
      "/opt/tljh/user/lib/python3.7/site-packages/ipykernel_launcher.py:21: UserWarning: ../non/pytorch-CycleGAN-and-pix2pix/alldata/2347.png is a low contrast image\n",
      "/opt/tljh/user/lib/python3.7/site-packages/ipykernel_launcher.py:21: UserWarning: ../non/pytorch-CycleGAN-and-pix2pix/alldata/2348.png is a low contrast image\n",
      "/opt/tljh/user/lib/python3.7/site-packages/ipykernel_launcher.py:21: UserWarning: ../non/pytorch-CycleGAN-and-pix2pix/alldata/2349.png is a low contrast image\n",
      "/opt/tljh/user/lib/python3.7/site-packages/ipykernel_launcher.py:21: UserWarning: ../non/pytorch-CycleGAN-and-pix2pix/alldata/2350.png is a low contrast image\n",
      "/opt/tljh/user/lib/python3.7/site-packages/ipykernel_launcher.py:21: UserWarning: ../non/pytorch-CycleGAN-and-pix2pix/alldata/2351.png is a low contrast image\n",
      "/opt/tljh/user/lib/python3.7/site-packages/ipykernel_launcher.py:21: UserWarning: ../non/pytorch-CycleGAN-and-pix2pix/alldata/2352.png is a low contrast image\n",
      "/opt/tljh/user/lib/python3.7/site-packages/ipykernel_launcher.py:21: UserWarning: ../non/pytorch-CycleGAN-and-pix2pix/alldata/2353.png is a low contrast image\n",
      "/opt/tljh/user/lib/python3.7/site-packages/ipykernel_launcher.py:21: UserWarning: ../non/pytorch-CycleGAN-and-pix2pix/alldata/2354.png is a low contrast image\n",
      "/opt/tljh/user/lib/python3.7/site-packages/ipykernel_launcher.py:21: UserWarning: ../non/pytorch-CycleGAN-and-pix2pix/alldata/2355.png is a low contrast image\n",
      "/opt/tljh/user/lib/python3.7/site-packages/ipykernel_launcher.py:21: UserWarning: ../non/pytorch-CycleGAN-and-pix2pix/alldata/2356.png is a low contrast image\n",
      "/opt/tljh/user/lib/python3.7/site-packages/ipykernel_launcher.py:21: UserWarning: ../non/pytorch-CycleGAN-and-pix2pix/alldata/2357.png is a low contrast image\n",
      "/opt/tljh/user/lib/python3.7/site-packages/ipykernel_launcher.py:21: UserWarning: ../non/pytorch-CycleGAN-and-pix2pix/alldata/2358.png is a low contrast image\n",
      "/opt/tljh/user/lib/python3.7/site-packages/ipykernel_launcher.py:21: UserWarning: ../non/pytorch-CycleGAN-and-pix2pix/alldata/2359.png is a low contrast image\n",
      "/opt/tljh/user/lib/python3.7/site-packages/ipykernel_launcher.py:21: UserWarning: ../non/pytorch-CycleGAN-and-pix2pix/alldata/2360.png is a low contrast image\n",
      "/opt/tljh/user/lib/python3.7/site-packages/ipykernel_launcher.py:21: UserWarning: ../non/pytorch-CycleGAN-and-pix2pix/alldata/2361.png is a low contrast image\n",
      "/opt/tljh/user/lib/python3.7/site-packages/ipykernel_launcher.py:21: UserWarning: ../non/pytorch-CycleGAN-and-pix2pix/alldata/2362.png is a low contrast image\n",
      "/opt/tljh/user/lib/python3.7/site-packages/ipykernel_launcher.py:21: UserWarning: ../non/pytorch-CycleGAN-and-pix2pix/alldata/2363.png is a low contrast image\n",
      "/opt/tljh/user/lib/python3.7/site-packages/ipykernel_launcher.py:21: UserWarning: ../non/pytorch-CycleGAN-and-pix2pix/alldata/2364.png is a low contrast image\n",
      "/opt/tljh/user/lib/python3.7/site-packages/ipykernel_launcher.py:21: UserWarning: ../non/pytorch-CycleGAN-and-pix2pix/alldata/2365.png is a low contrast image\n",
      "/opt/tljh/user/lib/python3.7/site-packages/ipykernel_launcher.py:21: UserWarning: ../non/pytorch-CycleGAN-and-pix2pix/alldata/2366.png is a low contrast image\n",
      "/opt/tljh/user/lib/python3.7/site-packages/ipykernel_launcher.py:21: UserWarning: ../non/pytorch-CycleGAN-and-pix2pix/alldata/2367.png is a low contrast image\n",
      "/opt/tljh/user/lib/python3.7/site-packages/ipykernel_launcher.py:21: UserWarning: ../non/pytorch-CycleGAN-and-pix2pix/alldata/2368.png is a low contrast image\n",
      "/opt/tljh/user/lib/python3.7/site-packages/ipykernel_launcher.py:21: UserWarning: ../non/pytorch-CycleGAN-and-pix2pix/alldata/2369.png is a low contrast image\n",
      "/opt/tljh/user/lib/python3.7/site-packages/ipykernel_launcher.py:21: UserWarning: ../non/pytorch-CycleGAN-and-pix2pix/alldata/2370.png is a low contrast image\n",
      "/opt/tljh/user/lib/python3.7/site-packages/ipykernel_launcher.py:21: UserWarning: ../non/pytorch-CycleGAN-and-pix2pix/alldata/2371.png is a low contrast image\n",
      "/opt/tljh/user/lib/python3.7/site-packages/ipykernel_launcher.py:21: UserWarning: ../non/pytorch-CycleGAN-and-pix2pix/alldata/2372.png is a low contrast image\n",
      "/opt/tljh/user/lib/python3.7/site-packages/ipykernel_launcher.py:21: UserWarning: ../non/pytorch-CycleGAN-and-pix2pix/alldata/2373.png is a low contrast image\n",
      "/opt/tljh/user/lib/python3.7/site-packages/ipykernel_launcher.py:21: UserWarning: ../non/pytorch-CycleGAN-and-pix2pix/alldata/2374.png is a low contrast image\n",
      "/opt/tljh/user/lib/python3.7/site-packages/ipykernel_launcher.py:21: UserWarning: ../non/pytorch-CycleGAN-and-pix2pix/alldata/2375.png is a low contrast image\n",
      "/opt/tljh/user/lib/python3.7/site-packages/ipykernel_launcher.py:21: UserWarning: ../non/pytorch-CycleGAN-and-pix2pix/alldata/2376.png is a low contrast image\n",
      "/opt/tljh/user/lib/python3.7/site-packages/ipykernel_launcher.py:21: UserWarning: ../non/pytorch-CycleGAN-and-pix2pix/alldata/2377.png is a low contrast image\n",
      "/opt/tljh/user/lib/python3.7/site-packages/ipykernel_launcher.py:21: UserWarning: ../non/pytorch-CycleGAN-and-pix2pix/alldata/2378.png is a low contrast image\n"
     ]
    },
    {
     "name": "stdout",
     "output_type": "stream",
     "text": [
      "ครึ่งทางละ\n"
     ]
    },
    {
     "name": "stderr",
     "output_type": "stream",
     "text": [
      "/opt/tljh/user/lib/python3.7/site-packages/ipykernel_launcher.py:21: UserWarning: ../non/pytorch-CycleGAN-and-pix2pix/alldata/2379.png is a low contrast image\n",
      "/opt/tljh/user/lib/python3.7/site-packages/ipykernel_launcher.py:21: UserWarning: ../non/pytorch-CycleGAN-and-pix2pix/alldata/2380.png is a low contrast image\n",
      "/opt/tljh/user/lib/python3.7/site-packages/ipykernel_launcher.py:21: UserWarning: ../non/pytorch-CycleGAN-and-pix2pix/alldata/2381.png is a low contrast image\n",
      "/opt/tljh/user/lib/python3.7/site-packages/ipykernel_launcher.py:21: UserWarning: ../non/pytorch-CycleGAN-and-pix2pix/alldata/2382.png is a low contrast image\n",
      "/opt/tljh/user/lib/python3.7/site-packages/ipykernel_launcher.py:21: UserWarning: ../non/pytorch-CycleGAN-and-pix2pix/alldata/2383.png is a low contrast image\n",
      "100%|██████████| 5/5 [00:01<00:00,  3.94it/s]\n"
     ]
    },
    {
     "name": "stdout",
     "output_type": "stream",
     "text": [
      "ครึ่งทางละ\n"
     ]
    },
    {
     "name": "stderr",
     "output_type": "stream",
     "text": [
      "/opt/tljh/user/lib/python3.7/site-packages/ipykernel_launcher.py:21: UserWarning: ../non/pytorch-CycleGAN-and-pix2pix/alldata/2452.png is a low contrast image\n",
      "/opt/tljh/user/lib/python3.7/site-packages/ipykernel_launcher.py:21: UserWarning: ../non/pytorch-CycleGAN-and-pix2pix/alldata/2453.png is a low contrast image\n",
      "/opt/tljh/user/lib/python3.7/site-packages/ipykernel_launcher.py:21: UserWarning: ../non/pytorch-CycleGAN-and-pix2pix/alldata/2454.png is a low contrast image\n",
      "/opt/tljh/user/lib/python3.7/site-packages/ipykernel_launcher.py:21: UserWarning: ../non/pytorch-CycleGAN-and-pix2pix/alldata/2455.png is a low contrast image\n",
      "/opt/tljh/user/lib/python3.7/site-packages/ipykernel_launcher.py:21: UserWarning: ../non/pytorch-CycleGAN-and-pix2pix/alldata/2456.png is a low contrast image\n",
      "/opt/tljh/user/lib/python3.7/site-packages/ipykernel_launcher.py:21: UserWarning: ../non/pytorch-CycleGAN-and-pix2pix/alldata/2457.png is a low contrast image\n",
      "/opt/tljh/user/lib/python3.7/site-packages/ipykernel_launcher.py:21: UserWarning: ../non/pytorch-CycleGAN-and-pix2pix/alldata/2458.png is a low contrast image\n",
      "/opt/tljh/user/lib/python3.7/site-packages/ipykernel_launcher.py:21: UserWarning: ../non/pytorch-CycleGAN-and-pix2pix/alldata/2459.png is a low contrast image\n",
      "/opt/tljh/user/lib/python3.7/site-packages/ipykernel_launcher.py:21: UserWarning: ../non/pytorch-CycleGAN-and-pix2pix/alldata/2460.png is a low contrast image\n",
      "/opt/tljh/user/lib/python3.7/site-packages/ipykernel_launcher.py:21: UserWarning: ../non/pytorch-CycleGAN-and-pix2pix/alldata/2461.png is a low contrast image\n",
      "100%|██████████| 5/5 [00:01<00:00,  2.75it/s]\n"
     ]
    },
    {
     "name": "stdout",
     "output_type": "stream",
     "text": [
      "ครึ่งทางละ\n"
     ]
    },
    {
     "name": "stderr",
     "output_type": "stream",
     "text": [
      "100%|██████████| 5/5 [00:01<00:00,  4.38it/s]\n"
     ]
    },
    {
     "name": "stdout",
     "output_type": "stream",
     "text": [
      "ครึ่งทางละ\n"
     ]
    },
    {
     "name": "stderr",
     "output_type": "stream",
     "text": [
      "100%|██████████| 5/5 [00:01<00:00,  4.03it/s]\n"
     ]
    },
    {
     "name": "stdout",
     "output_type": "stream",
     "text": [
      "ครึ่งทางละ\n"
     ]
    },
    {
     "name": "stderr",
     "output_type": "stream",
     "text": [
      "100%|██████████| 5/5 [00:01<00:00,  3.66it/s]\n"
     ]
    },
    {
     "name": "stdout",
     "output_type": "stream",
     "text": [
      "ครึ่งทางละ\n"
     ]
    },
    {
     "name": "stderr",
     "output_type": "stream",
     "text": [
      "100%|██████████| 5/5 [00:01<00:00,  3.02it/s]\n"
     ]
    },
    {
     "name": "stdout",
     "output_type": "stream",
     "text": [
      "ครึ่งทางละ\n"
     ]
    },
    {
     "name": "stderr",
     "output_type": "stream",
     "text": [
      "100%|██████████| 5/5 [00:01<00:00,  3.67it/s]\n",
      "/opt/tljh/user/lib/python3.7/site-packages/ipykernel_launcher.py:21: UserWarning: ../non/pytorch-CycleGAN-and-pix2pix/alldata/2101.png is a low contrast image\n",
      "/opt/tljh/user/lib/python3.7/site-packages/ipykernel_launcher.py:21: UserWarning: ../non/pytorch-CycleGAN-and-pix2pix/alldata/2104.png is a low contrast image\n",
      "/opt/tljh/user/lib/python3.7/site-packages/ipykernel_launcher.py:21: UserWarning: ../non/pytorch-CycleGAN-and-pix2pix/alldata/2108.png is a low contrast image\n",
      "/opt/tljh/user/lib/python3.7/site-packages/ipykernel_launcher.py:21: UserWarning: ../non/pytorch-CycleGAN-and-pix2pix/alldata/21012.png is a low contrast image\n",
      "/opt/tljh/user/lib/python3.7/site-packages/ipykernel_launcher.py:21: UserWarning: ../non/pytorch-CycleGAN-and-pix2pix/alldata/21014.png is a low contrast image\n",
      "/opt/tljh/user/lib/python3.7/site-packages/ipykernel_launcher.py:21: UserWarning: ../non/pytorch-CycleGAN-and-pix2pix/alldata/21028.png is a low contrast image\n"
     ]
    },
    {
     "name": "stdout",
     "output_type": "stream",
     "text": [
      "ครึ่งทางละ\n"
     ]
    },
    {
     "name": "stderr",
     "output_type": "stream",
     "text": [
      "\r",
      "  0%|          | 0/5 [00:00<?, ?it/s]"
     ]
    },
    {
     "name": "stdout",
     "output_type": "stream",
     "text": [
      "data character:  ['Female Characters', 'Rabbits', 'Male Characters', 'Pandas', 'Birds', 'Bears', 'Weird', 'Families & Couples', 'Seals', 'Names', 'Dogs', 'Cats', 'Food', 'Other'] 14\n"
     ]
    },
    {
     "name": "stderr",
     "output_type": "stream",
     "text": [
      "100%|██████████| 5/5 [00:01<00:00,  2.69it/s]\n"
     ]
    },
    {
     "name": "stdout",
     "output_type": "stream",
     "text": [
      "ครึ่งทางละ\n"
     ]
    },
    {
     "name": "stderr",
     "output_type": "stream",
     "text": [
      "100%|██████████| 5/5 [00:02<00:00,  2.47it/s]\n"
     ]
    },
    {
     "name": "stdout",
     "output_type": "stream",
     "text": [
      "ครึ่งทางละ\n"
     ]
    },
    {
     "name": "stderr",
     "output_type": "stream",
     "text": [
      "  0%|          | 0/5 [00:00<?, ?it/s]/home/jupyter-non_suchawit/.local/lib/python3.7/site-packages/linestickerdata/__init__.py:20: UserWarning: ./tmp/5887032/126784247.jpg is a low contrast image\n",
      "  imsave(path, im[:,:,:3])\n",
      "/home/jupyter-non_suchawit/.local/lib/python3.7/site-packages/linestickerdata/__init__.py:20: UserWarning: ./tmp/5887032/126784249.jpg is a low contrast image\n",
      "  imsave(path, im[:,:,:3])\n",
      "/home/jupyter-non_suchawit/.local/lib/python3.7/site-packages/linestickerdata/__init__.py:20: UserWarning: ./tmp/5887032/126784255.jpg is a low contrast image\n",
      "  imsave(path, im[:,:,:3])\n",
      "/home/jupyter-non_suchawit/.local/lib/python3.7/site-packages/linestickerdata/__init__.py:20: UserWarning: ./tmp/5887032/126784257.jpg is a low contrast image\n",
      "  imsave(path, im[:,:,:3])\n",
      "/home/jupyter-non_suchawit/.local/lib/python3.7/site-packages/linestickerdata/__init__.py:20: UserWarning: ./tmp/5887032/126784246.jpg is a low contrast image\n",
      "  imsave(path, im[:,:,:3])\n",
      "/home/jupyter-non_suchawit/.local/lib/python3.7/site-packages/linestickerdata/__init__.py:20: UserWarning: ./tmp/5887032/126784259.jpg is a low contrast image\n",
      "  imsave(path, im[:,:,:3])\n",
      "100%|██████████| 5/5 [00:00<00:00,  6.08it/s]\n",
      "/opt/tljh/user/lib/python3.7/site-packages/ipykernel_launcher.py:30: UserWarning: ../non/pytorch-CycleGAN-and-pix2pix/alldata/223.png is a low contrast image\n",
      "/opt/tljh/user/lib/python3.7/site-packages/ipykernel_launcher.py:30: UserWarning: ../non/pytorch-CycleGAN-and-pix2pix/alldata/226.png is a low contrast image\n",
      "/opt/tljh/user/lib/python3.7/site-packages/ipykernel_launcher.py:30: UserWarning: ../non/pytorch-CycleGAN-and-pix2pix/alldata/227.png is a low contrast image\n",
      "/opt/tljh/user/lib/python3.7/site-packages/ipykernel_launcher.py:30: UserWarning: ../non/pytorch-CycleGAN-and-pix2pix/alldata/228.png is a low contrast image\n",
      "/opt/tljh/user/lib/python3.7/site-packages/ipykernel_launcher.py:30: UserWarning: ../non/pytorch-CycleGAN-and-pix2pix/alldata/2213.png is a low contrast image\n",
      "/opt/tljh/user/lib/python3.7/site-packages/ipykernel_launcher.py:30: UserWarning: ../non/pytorch-CycleGAN-and-pix2pix/alldata/2215.png is a low contrast image\n"
     ]
    },
    {
     "name": "stdout",
     "output_type": "stream",
     "text": [
      "ครึ่งทางละ\n"
     ]
    },
    {
     "name": "stderr",
     "output_type": "stream",
     "text": [
      " 20%|██        | 1/5 [00:00<00:01,  2.36it/s]/home/jupyter-non_suchawit/.local/lib/python3.7/site-packages/linestickerdata/__init__.py:20: UserWarning: ./tmp/1606714/20520695.jpg is a low contrast image\n",
      "  imsave(path, im[:,:,:3])\n",
      "100%|██████████| 5/5 [00:02<00:00,  2.43it/s]\n"
     ]
    },
    {
     "name": "stdout",
     "output_type": "stream",
     "text": [
      "ครึ่งทางละ\n"
     ]
    },
    {
     "name": "stderr",
     "output_type": "stream",
     "text": [
      "/opt/tljh/user/lib/python3.7/site-packages/ipykernel_launcher.py:30: UserWarning: ../non/pytorch-CycleGAN-and-pix2pix/alldata/2357.png is a low contrast image\n",
      "100%|██████████| 5/5 [00:01<00:00,  4.36it/s]\n"
     ]
    },
    {
     "name": "stdout",
     "output_type": "stream",
     "text": [
      "ครึ่งทางละ\n"
     ]
    },
    {
     "name": "stderr",
     "output_type": "stream",
     "text": [
      "100%|██████████| 5/5 [00:01<00:00,  4.82it/s]\n"
     ]
    },
    {
     "name": "stdout",
     "output_type": "stream",
     "text": [
      "ครึ่งทางละ\n"
     ]
    },
    {
     "name": "stderr",
     "output_type": "stream",
     "text": [
      "100%|██████████| 5/5 [00:01<00:00,  3.80it/s]\n",
      "/opt/tljh/user/lib/python3.7/site-packages/ipykernel_launcher.py:30: UserWarning: ../non/pytorch-CycleGAN-and-pix2pix/alldata/261.png is a low contrast image\n",
      "/opt/tljh/user/lib/python3.7/site-packages/ipykernel_launcher.py:30: UserWarning: ../non/pytorch-CycleGAN-and-pix2pix/alldata/264.png is a low contrast image\n",
      "/opt/tljh/user/lib/python3.7/site-packages/ipykernel_launcher.py:30: UserWarning: ../non/pytorch-CycleGAN-and-pix2pix/alldata/268.png is a low contrast image\n",
      "/opt/tljh/user/lib/python3.7/site-packages/ipykernel_launcher.py:30: UserWarning: ../non/pytorch-CycleGAN-and-pix2pix/alldata/2612.png is a low contrast image\n",
      "/opt/tljh/user/lib/python3.7/site-packages/ipykernel_launcher.py:30: UserWarning: ../non/pytorch-CycleGAN-and-pix2pix/alldata/2614.png is a low contrast image\n",
      "/opt/tljh/user/lib/python3.7/site-packages/ipykernel_launcher.py:30: UserWarning: ../non/pytorch-CycleGAN-and-pix2pix/alldata/2628.png is a low contrast image\n"
     ]
    },
    {
     "name": "stdout",
     "output_type": "stream",
     "text": [
      "ครึ่งทางละ\n"
     ]
    },
    {
     "name": "stderr",
     "output_type": "stream",
     "text": [
      "100%|██████████| 5/5 [00:01<00:00,  3.43it/s]\n"
     ]
    },
    {
     "name": "stdout",
     "output_type": "stream",
     "text": [
      "ครึ่งทางละ\n"
     ]
    },
    {
     "name": "stderr",
     "output_type": "stream",
     "text": [
      "100%|██████████| 5/5 [00:01<00:00,  2.72it/s]\n"
     ]
    },
    {
     "name": "stdout",
     "output_type": "stream",
     "text": [
      "ครึ่งทางละ\n"
     ]
    },
    {
     "name": "stderr",
     "output_type": "stream",
     "text": [
      "100%|██████████| 5/5 [00:02<00:00,  2.41it/s]\n"
     ]
    },
    {
     "name": "stdout",
     "output_type": "stream",
     "text": [
      "ครึ่งทางละ\n"
     ]
    },
    {
     "name": "stderr",
     "output_type": "stream",
     "text": [
      "100%|██████████| 5/5 [00:00<00:00,  5.16it/s]\n"
     ]
    },
    {
     "name": "stdout",
     "output_type": "stream",
     "text": [
      "ครึ่งทางละ\n"
     ]
    },
    {
     "name": "stderr",
     "output_type": "stream",
     "text": [
      "100%|██████████| 5/5 [00:01<00:00,  2.87it/s]\n"
     ]
    },
    {
     "name": "stdout",
     "output_type": "stream",
     "text": [
      "ครึ่งทางละ\n"
     ]
    },
    {
     "name": "stderr",
     "output_type": "stream",
     "text": [
      "100%|██████████| 5/5 [00:01<00:00,  2.85it/s]\n"
     ]
    },
    {
     "name": "stdout",
     "output_type": "stream",
     "text": [
      "ครึ่งทางละ\n"
     ]
    },
    {
     "name": "stderr",
     "output_type": "stream",
     "text": [
      "100%|██████████| 5/5 [00:01<00:00,  3.35it/s]\n"
     ]
    },
    {
     "name": "stdout",
     "output_type": "stream",
     "text": [
      "ครึ่งทางละ\n",
      "save เสร็จหมดละ\n",
      "data-th taste:  ['ตลก', 'เทศกาล', 'ทักทาย', 'ภาษาท้องถิ่น, สแลง', 'น่ารัก', 'เท่', 'บอลลูนข้อความ', 'สวยเริ่ด', 'อบอุ่น', 'แปลก', 'ภาษาสุภาพ'] 11\n"
     ]
    },
    {
     "name": "stderr",
     "output_type": "stream",
     "text": [
      "100%|██████████| 5/5 [00:01<00:00,  3.01it/s]\n"
     ]
    },
    {
     "name": "stdout",
     "output_type": "stream",
     "text": [
      "ครึ่งทางละ\n"
     ]
    },
    {
     "name": "stderr",
     "output_type": "stream",
     "text": [
      "100%|██████████| 5/5 [00:01<00:00,  4.09it/s]\n"
     ]
    },
    {
     "name": "stdout",
     "output_type": "stream",
     "text": [
      "ครึ่งทางละ\n"
     ]
    },
    {
     "name": "stderr",
     "output_type": "stream",
     "text": [
      "100%|██████████| 5/5 [00:01<00:00,  4.51it/s]\n"
     ]
    },
    {
     "name": "stdout",
     "output_type": "stream",
     "text": [
      "ครึ่งทางละ\n"
     ]
    },
    {
     "name": "stderr",
     "output_type": "stream",
     "text": [
      " 40%|████      | 2/5 [00:00<00:01,  2.26it/s]/home/jupyter-non_suchawit/.local/lib/python3.7/site-packages/linestickerdata/__init__.py:20: UserWarning: ./tmp/5508246/tab_on.jpg is a low contrast image\n",
      "  imsave(path, im[:,:,:3])\n",
      "/home/jupyter-non_suchawit/.local/lib/python3.7/site-packages/linestickerdata/__init__.py:20: UserWarning: ./tmp/5508246/tab_off.jpg is a low contrast image\n",
      "  imsave(path, im[:,:,:3])\n",
      "100%|██████████| 5/5 [00:01<00:00,  2.52it/s]\n"
     ]
    },
    {
     "name": "stdout",
     "output_type": "stream",
     "text": [
      "ครึ่งทางละ\n"
     ]
    },
    {
     "name": "stderr",
     "output_type": "stream",
     "text": [
      "/opt/tljh/user/lib/python3.7/site-packages/ipykernel_launcher.py:21: UserWarning: ../non/pytorch-CycleGAN-and-pix2pix/alldata/33110.png is a low contrast image\n",
      "/opt/tljh/user/lib/python3.7/site-packages/ipykernel_launcher.py:21: UserWarning: ../non/pytorch-CycleGAN-and-pix2pix/alldata/33121.png is a low contrast image\n",
      "100%|██████████| 5/5 [00:01<00:00,  2.72it/s]\n"
     ]
    },
    {
     "name": "stdout",
     "output_type": "stream",
     "text": [
      "ครึ่งทางละ\n"
     ]
    },
    {
     "name": "stderr",
     "output_type": "stream",
     "text": [
      "100%|██████████| 5/5 [00:01<00:00,  3.88it/s]\n"
     ]
    },
    {
     "name": "stdout",
     "output_type": "stream",
     "text": [
      "ครึ่งทางละ\n"
     ]
    },
    {
     "name": "stderr",
     "output_type": "stream",
     "text": [
      "100%|██████████| 5/5 [00:01<00:00,  2.99it/s]\n"
     ]
    },
    {
     "name": "stdout",
     "output_type": "stream",
     "text": [
      "ครึ่งทางละ\n"
     ]
    },
    {
     "name": "stderr",
     "output_type": "stream",
     "text": [
      "100%|██████████| 5/5 [00:01<00:00,  3.27it/s]\n"
     ]
    },
    {
     "name": "stdout",
     "output_type": "stream",
     "text": [
      "ครึ่งทางละ\n"
     ]
    },
    {
     "name": "stderr",
     "output_type": "stream",
     "text": [
      "100%|██████████| 5/5 [00:01<00:00,  3.68it/s]\n"
     ]
    },
    {
     "name": "stdout",
     "output_type": "stream",
     "text": [
      "ครึ่งทางละ\n"
     ]
    },
    {
     "name": "stderr",
     "output_type": "stream",
     "text": [
      "100%|██████████| 5/5 [00:01<00:00,  3.80it/s]\n"
     ]
    },
    {
     "name": "stdout",
     "output_type": "stream",
     "text": [
      "ครึ่งทางละ\n"
     ]
    },
    {
     "name": "stderr",
     "output_type": "stream",
     "text": [
      "100%|██████████| 5/5 [00:01<00:00,  3.76it/s]\n"
     ]
    },
    {
     "name": "stdout",
     "output_type": "stream",
     "text": [
      "ครึ่งทางละ\n",
      "data-th character:  ['หมี', 'ชื่อ', 'สุนัข', 'หญิง', 'นก', 'อาหาร', 'แมว', 'ครอบครัว, คู่รัก', 'แมวน้ำ', 'แพนด้า', 'กระต่าย', 'อื่นๆ', 'ชาย'] 13\n"
     ]
    },
    {
     "name": "stderr",
     "output_type": "stream",
     "text": [
      "100%|██████████| 5/5 [00:01<00:00,  3.19it/s]\n"
     ]
    },
    {
     "name": "stdout",
     "output_type": "stream",
     "text": [
      "ครึ่งทางละ\n"
     ]
    },
    {
     "name": "stderr",
     "output_type": "stream",
     "text": [
      "100%|██████████| 5/5 [00:02<00:00,  2.22it/s]\n"
     ]
    },
    {
     "name": "stdout",
     "output_type": "stream",
     "text": [
      "ครึ่งทางละ\n"
     ]
    },
    {
     "name": "stderr",
     "output_type": "stream",
     "text": [
      "100%|██████████| 5/5 [00:01<00:00,  3.28it/s]\n"
     ]
    },
    {
     "name": "stdout",
     "output_type": "stream",
     "text": [
      "ครึ่งทางละ\n"
     ]
    },
    {
     "name": "stderr",
     "output_type": "stream",
     "text": [
      "  0%|          | 0/5 [00:00<?, ?it/s]/home/jupyter-non_suchawit/.local/lib/python3.7/site-packages/linestickerdata/__init__.py:20: UserWarning: ./tmp/4276928/69823852.jpg is a low contrast image\n",
      "  imsave(path, im[:,:,:3])\n",
      "/home/jupyter-non_suchawit/.local/lib/python3.7/site-packages/linestickerdata/__init__.py:20: UserWarning: ./tmp/4276928/69823848.jpg is a low contrast image\n",
      "  imsave(path, im[:,:,:3])\n",
      "/home/jupyter-non_suchawit/.local/lib/python3.7/site-packages/linestickerdata/__init__.py:20: UserWarning: ./tmp/4276928/69823850.jpg is a low contrast image\n",
      "  imsave(path, im[:,:,:3])\n",
      "/home/jupyter-non_suchawit/.local/lib/python3.7/site-packages/linestickerdata/__init__.py:20: UserWarning: ./tmp/4276928/69823851.jpg is a low contrast image\n",
      "  imsave(path, im[:,:,:3])\n",
      "/home/jupyter-non_suchawit/.local/lib/python3.7/site-packages/linestickerdata/__init__.py:20: UserWarning: ./tmp/4276928/69823849.jpg is a low contrast image\n",
      "  imsave(path, im[:,:,:3])\n",
      "100%|██████████| 5/5 [00:01<00:00,  4.64it/s]\n",
      "/opt/tljh/user/lib/python3.7/site-packages/ipykernel_launcher.py:30: UserWarning: ../non/pytorch-CycleGAN-and-pix2pix/alldata/3311.png is a low contrast image\n",
      "/opt/tljh/user/lib/python3.7/site-packages/ipykernel_launcher.py:30: UserWarning: ../non/pytorch-CycleGAN-and-pix2pix/alldata/3313.png is a low contrast image\n",
      "/opt/tljh/user/lib/python3.7/site-packages/ipykernel_launcher.py:30: UserWarning: ../non/pytorch-CycleGAN-and-pix2pix/alldata/3315.png is a low contrast image\n",
      "/opt/tljh/user/lib/python3.7/site-packages/ipykernel_launcher.py:30: UserWarning: ../non/pytorch-CycleGAN-and-pix2pix/alldata/3317.png is a low contrast image\n",
      "/opt/tljh/user/lib/python3.7/site-packages/ipykernel_launcher.py:30: UserWarning: ../non/pytorch-CycleGAN-and-pix2pix/alldata/3318.png is a low contrast image\n"
     ]
    },
    {
     "name": "stdout",
     "output_type": "stream",
     "text": [
      "ครึ่งทางละ\n"
     ]
    },
    {
     "name": "stderr",
     "output_type": "stream",
     "text": [
      "100%|██████████| 5/5 [00:01<00:00,  3.39it/s]\n"
     ]
    },
    {
     "name": "stdout",
     "output_type": "stream",
     "text": [
      "ครึ่งทางละ\n"
     ]
    },
    {
     "name": "stderr",
     "output_type": "stream",
     "text": [
      "100%|██████████| 5/5 [00:01<00:00,  3.32it/s]\n"
     ]
    },
    {
     "name": "stdout",
     "output_type": "stream",
     "text": [
      "ครึ่งทางละ\n"
     ]
    },
    {
     "name": "stderr",
     "output_type": "stream",
     "text": [
      "100%|██████████| 5/5 [00:01<00:00,  2.62it/s]\n"
     ]
    },
    {
     "name": "stdout",
     "output_type": "stream",
     "text": [
      "ครึ่งทางละ\n"
     ]
    },
    {
     "name": "stderr",
     "output_type": "stream",
     "text": [
      "100%|██████████| 5/5 [00:01<00:00,  3.47it/s]\n"
     ]
    },
    {
     "name": "stdout",
     "output_type": "stream",
     "text": [
      "ครึ่งทางละ\n"
     ]
    },
    {
     "name": "stderr",
     "output_type": "stream",
     "text": [
      "100%|██████████| 5/5 [00:01<00:00,  2.62it/s]\n"
     ]
    },
    {
     "name": "stdout",
     "output_type": "stream",
     "text": [
      "ครึ่งทางละ\n"
     ]
    },
    {
     "name": "stderr",
     "output_type": "stream",
     "text": [
      "100%|██████████| 5/5 [00:01<00:00,  2.60it/s]\n"
     ]
    },
    {
     "name": "stdout",
     "output_type": "stream",
     "text": [
      "ครึ่งทางละ\n"
     ]
    },
    {
     "name": "stderr",
     "output_type": "stream",
     "text": [
      "100%|██████████| 5/5 [00:01<00:00,  4.07it/s]\n"
     ]
    },
    {
     "name": "stdout",
     "output_type": "stream",
     "text": [
      "ครึ่งทางละ\n"
     ]
    },
    {
     "name": "stderr",
     "output_type": "stream",
     "text": [
      "100%|██████████| 5/5 [00:00<00:00,  5.96it/s]\n"
     ]
    },
    {
     "name": "stdout",
     "output_type": "stream",
     "text": [
      "ครึ่งทางละ\n"
     ]
    },
    {
     "name": "stderr",
     "output_type": "stream",
     "text": [
      "  0%|          | 0/5 [00:00<?, ?it/s]/home/jupyter-non_suchawit/.local/lib/python3.7/site-packages/linestickerdata/__init__.py:20: UserWarning: ./tmp/9501200/tab_on.jpg is a low contrast image\n",
      "  imsave(path, im[:,:,:3])\n",
      "/home/jupyter-non_suchawit/.local/lib/python3.7/site-packages/linestickerdata/__init__.py:20: UserWarning: ./tmp/9501200/tab_off.jpg is a low contrast image\n",
      "  imsave(path, im[:,:,:3])\n",
      " 40%|████      | 2/5 [00:00<00:00, 10.73it/s]/home/jupyter-non_suchawit/.local/lib/python3.7/site-packages/linestickerdata/__init__.py:20: UserWarning: ./tmp/1768002/24388875.jpg is a low contrast image\n",
      "  imsave(path, im[:,:,:3])\n",
      "/home/jupyter-non_suchawit/.local/lib/python3.7/site-packages/linestickerdata/__init__.py:20: UserWarning: ./tmp/1768002/24388877.jpg is a low contrast image\n",
      "  imsave(path, im[:,:,:3])\n",
      "/home/jupyter-non_suchawit/.local/lib/python3.7/site-packages/linestickerdata/__init__.py:20: UserWarning: ./tmp/1768002/24388872.jpg is a low contrast image\n",
      "  imsave(path, im[:,:,:3])\n",
      "/home/jupyter-non_suchawit/.local/lib/python3.7/site-packages/linestickerdata/__init__.py:20: UserWarning: ./tmp/1768002/24388876.jpg is a low contrast image\n",
      "  imsave(path, im[:,:,:3])\n",
      "/home/jupyter-non_suchawit/.local/lib/python3.7/site-packages/linestickerdata/__init__.py:20: UserWarning: ./tmp/1768002/24388879.jpg is a low contrast image\n",
      "  imsave(path, im[:,:,:3])\n",
      "/home/jupyter-non_suchawit/.local/lib/python3.7/site-packages/linestickerdata/__init__.py:20: UserWarning: ./tmp/1768002/tab_on.jpg is a low contrast image\n",
      "  imsave(path, im[:,:,:3])\n",
      "/home/jupyter-non_suchawit/.local/lib/python3.7/site-packages/linestickerdata/__init__.py:20: UserWarning: ./tmp/1768002/24388878.jpg is a low contrast image\n",
      "  imsave(path, im[:,:,:3])\n",
      "/home/jupyter-non_suchawit/.local/lib/python3.7/site-packages/linestickerdata/__init__.py:20: UserWarning: ./tmp/1768002/24388873.jpg is a low contrast image\n",
      "  imsave(path, im[:,:,:3])\n",
      "/home/jupyter-non_suchawit/.local/lib/python3.7/site-packages/linestickerdata/__init__.py:20: UserWarning: ./tmp/1768002/tab_off.jpg is a low contrast image\n",
      "  imsave(path, im[:,:,:3])\n",
      "/home/jupyter-non_suchawit/.local/lib/python3.7/site-packages/linestickerdata/__init__.py:20: UserWarning: ./tmp/1768002/24388874.jpg is a low contrast image\n",
      "  imsave(path, im[:,:,:3])\n",
      "100%|██████████| 5/5 [00:00<00:00,  8.09it/s]\n",
      "/opt/tljh/user/lib/python3.7/site-packages/ipykernel_launcher.py:30: UserWarning: ../non/pytorch-CycleGAN-and-pix2pix/alldata/31217.png is a low contrast image\n",
      "/opt/tljh/user/lib/python3.7/site-packages/ipykernel_launcher.py:30: UserWarning: ../non/pytorch-CycleGAN-and-pix2pix/alldata/31219.png is a low contrast image\n",
      "/opt/tljh/user/lib/python3.7/site-packages/ipykernel_launcher.py:30: UserWarning: ../non/pytorch-CycleGAN-and-pix2pix/alldata/31220.png is a low contrast image\n",
      "/opt/tljh/user/lib/python3.7/site-packages/ipykernel_launcher.py:30: UserWarning: ../non/pytorch-CycleGAN-and-pix2pix/alldata/31221.png is a low contrast image\n",
      "/opt/tljh/user/lib/python3.7/site-packages/ipykernel_launcher.py:30: UserWarning: ../non/pytorch-CycleGAN-and-pix2pix/alldata/31222.png is a low contrast image\n",
      "/opt/tljh/user/lib/python3.7/site-packages/ipykernel_launcher.py:30: UserWarning: ../non/pytorch-CycleGAN-and-pix2pix/alldata/31223.png is a low contrast image\n",
      "/opt/tljh/user/lib/python3.7/site-packages/ipykernel_launcher.py:30: UserWarning: ../non/pytorch-CycleGAN-and-pix2pix/alldata/31224.png is a low contrast image\n",
      "/opt/tljh/user/lib/python3.7/site-packages/ipykernel_launcher.py:30: UserWarning: ../non/pytorch-CycleGAN-and-pix2pix/alldata/31225.png is a low contrast image\n",
      "/opt/tljh/user/lib/python3.7/site-packages/ipykernel_launcher.py:30: UserWarning: ../non/pytorch-CycleGAN-and-pix2pix/alldata/31226.png is a low contrast image\n",
      "/opt/tljh/user/lib/python3.7/site-packages/ipykernel_launcher.py:30: UserWarning: ../non/pytorch-CycleGAN-and-pix2pix/alldata/31227.png is a low contrast image\n",
      "/opt/tljh/user/lib/python3.7/site-packages/ipykernel_launcher.py:30: UserWarning: ../non/pytorch-CycleGAN-and-pix2pix/alldata/31228.png is a low contrast image\n",
      "/opt/tljh/user/lib/python3.7/site-packages/ipykernel_launcher.py:30: UserWarning: ../non/pytorch-CycleGAN-and-pix2pix/alldata/31229.png is a low contrast image\n"
     ]
    },
    {
     "name": "stdout",
     "output_type": "stream",
     "text": [
      "ครึ่งทางละ\n",
      "save เสร็จหมดละ\n"
     ]
    }
   ],
   "source": [
    "from linestickerdata import get_image_paths\n",
    "from skimage.io import imshow, imread,imsave\n",
    "len(available)\n",
    "i = 0\n",
    "for row in available:\n",
    "    if 'category' in row:\n",
    "        print(row['folder'], 'category: ', row['category'],len(row['category']))\n",
    "        for p in range(len(row['category'])):\n",
    "            paths = get_image_paths(folder=row['folder'], character= row['category'][p], n=5, num_workers=1, seed=0)\n",
    "            for im in range(len(paths)):\n",
    "                rim = imread(paths[im])\n",
    "                imsave(os.path.join(path,str(i)+str(p)+str(im)+\".png\"), rim)\n",
    "                if im == 50:\n",
    "                    print(\"ครึ่งทางละ\")\n",
    "    if 'taste' in row:\n",
    "        print(row['folder'], 'taste: ', row['taste'],len(row['taste']))\n",
    "        for p in range(len(row['taste'])):\n",
    "            paths = get_image_paths(folder=row['folder'], character= row['taste'][p], n=5, num_workers=1, seed=0)\n",
    "            for im in range(len(paths)):\n",
    "                rim = imread(paths[im])\n",
    "                imsave(os.path.join(path,str(i)+str(p)+str(im)+\".png\"), rim)\n",
    "                if im == 50:\n",
    "                    print(\"ครึ่งทางละ\")\n",
    "    if 'character' in row:\n",
    "        print(row['folder'], 'character: ', row['character'],len(row['character']))\n",
    "        for p in range(len(row['character'])):\n",
    "            paths = get_image_paths(folder=row['folder'], character= row['character'][p], n=5, num_workers=1, seed=0)\n",
    "            for im in range(len(paths)):\n",
    "                rim = imread(paths[im])\n",
    "                imsave(os.path.join(path,str(i)+str(p)+str(im)+\".png\"), rim)\n",
    "                if im == 50:\n",
    "                    print(\"ครึ่งทางละ\")\n",
    "    i = i+1\n",
    "    print(\"save เสร็จหมดละ\")            \n",
    "                     \n",
    "        \n",
    "            \n"
   ]
  },
  {
   "cell_type": "code",
   "execution_count": null,
   "metadata": {},
   "outputs": [],
   "source": []
  }
 ],
 "metadata": {
  "kernelspec": {
   "display_name": "Python 3",
   "language": "python",
   "name": "python3"
  },
  "language_info": {
   "codemirror_mode": {
    "name": "ipython",
    "version": 3
   },
   "file_extension": ".py",
   "mimetype": "text/x-python",
   "name": "python",
   "nbconvert_exporter": "python",
   "pygments_lexer": "ipython3",
   "version": "3.7.7"
  }
 },
 "nbformat": 4,
 "nbformat_minor": 4
}
