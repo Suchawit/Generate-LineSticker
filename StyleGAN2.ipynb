{
 "cells": [
  {
   "cell_type": "code",
   "execution_count": 2,
   "metadata": {},
   "outputs": [],
   "source": [
    "import torch\n",
    "import torch.nn as nn\n",
    "import pandas as pd\n",
    "import numpy as np\n",
    "from torchvision import transforms\n",
    "from torch.utils.data import Dataset, DataLoader\n",
    "from PIL import Image\n",
    "from torch import autograd\n",
    "from torch.autograd import Variable\n",
    "from torchvision.utils import make_grid\n",
    "import matplotlib.pyplot as plt\n",
    "from skimage import io, transform, color\n",
    "import os\n",
    "import json\n",
    "from PIL import Image"
   ]
  },
  {
   "cell_type": "code",
   "execution_count": 134,
   "metadata": {},
   "outputs": [],
   "source": [
    "#def image_to_vector(image: numpy.ndarray) -> numpy.ndarray:\n",
    "\n",
    "#    length, height, depth = image.shape\n",
    "#    return image.reshape((length * height * depth, 1))\n",
    "class browndataset(Dataset):\n",
    "    def __init__(self, root_dir, img_transform=None,label_transform = None):\n",
    "\n",
    "        \n",
    "        #label_transform = transforms.Compose([transforms.ToTensor()])\n",
    "        json_path = './label_images_of_brown.json'\n",
    "        img_transform = transforms.Compose([\n",
    "            transforms.ToTensor(),\n",
    "    transforms.Resize((128,128)),\n",
    "    transforms.Normalize(mean=(0.5,0.5,0.5), std=(0.5,0.5,0.5))\n",
    "            ])     \n",
    "        \n",
    "        \n",
    "        \n",
    "        self.data = json.load(open(json_path))\n",
    "        self.root_dir = root_dir\n",
    "        self.label_transform = label_transform\n",
    "        self.img_transform = img_transform\n",
    "        \n",
    "        \n",
    "    def __len__(self):\n",
    "        return len((self.data)[\"id\"])\n",
    "\n",
    "    def __getitem__(self, idx):\n",
    "        if torch.is_tensor(idx):\n",
    "            idx = idx.tolist()\n",
    "\n",
    "        img_name = os.path.join(self.root_dir,\n",
    "                                self.data[\"id\"][idx])\n",
    "        immm =io.imread(img_name)\n",
    "        t_image = Image.fromarray(immm)\n",
    "        t_image = self.img_transform(t_image)\n",
    "        \n",
    "        cl = self.data['classes'][idx]\n",
    "        classes = np.array(cl)\n",
    "        #classes = self.img_transform(cl)\n",
    "        \n",
    "        return t_image, classes\n",
    "#img_size = 224\n"
   ]
  },
  {
   "cell_type": "code",
   "execution_count": 135,
   "metadata": {},
   "outputs": [],
   "source": [
    "dbrown = browndataset( root_dir='./datasets/brown/test')"
   ]
  },
  {
   "cell_type": "code",
   "execution_count": 136,
   "metadata": {},
   "outputs": [
    {
     "data": {
      "text/plain": [
       "tensor([[[-1., -1., -1.,  ..., -1., -1., -1.],\n",
       "         [-1., -1., -1.,  ..., -1., -1., -1.],\n",
       "         [-1., -1., -1.,  ..., -1., -1., -1.],\n",
       "         ...,\n",
       "         [-1., -1., -1.,  ..., -1., -1., -1.],\n",
       "         [-1., -1., -1.,  ..., -1., -1., -1.],\n",
       "         [-1., -1., -1.,  ..., -1., -1., -1.]],\n",
       "\n",
       "        [[-1., -1., -1.,  ..., -1., -1., -1.],\n",
       "         [-1., -1., -1.,  ..., -1., -1., -1.],\n",
       "         [-1., -1., -1.,  ..., -1., -1., -1.],\n",
       "         ...,\n",
       "         [-1., -1., -1.,  ..., -1., -1., -1.],\n",
       "         [-1., -1., -1.,  ..., -1., -1., -1.],\n",
       "         [-1., -1., -1.,  ..., -1., -1., -1.]],\n",
       "\n",
       "        [[-1., -1., -1.,  ..., -1., -1., -1.],\n",
       "         [-1., -1., -1.,  ..., -1., -1., -1.],\n",
       "         [-1., -1., -1.,  ..., -1., -1., -1.],\n",
       "         ...,\n",
       "         [-1., -1., -1.,  ..., -1., -1., -1.],\n",
       "         [-1., -1., -1.,  ..., -1., -1., -1.],\n",
       "         [-1., -1., -1.,  ..., -1., -1., -1.]]])"
      ]
     },
     "execution_count": 136,
     "metadata": {},
     "output_type": "execute_result"
    }
   ],
   "source": [
    "dbrown[0][0]"
   ]
  },
  {
   "cell_type": "code",
   "execution_count": 115,
   "metadata": {},
   "outputs": [
    {
     "data": {
      "text/plain": [
       "array([0, 0, 0, 1, 0, 0, 0, 0, 0])"
      ]
     },
     "execution_count": 115,
     "metadata": {},
     "output_type": "execute_result"
    }
   ],
   "source": [
    "dbrown[1][1]"
   ]
  },
  {
   "cell_type": "code",
   "execution_count": null,
   "metadata": {},
   "outputs": [],
   "source": [
    "from io import BytesIO\n",
    "\n",
    "import lmdb\n",
    "from PIL import Image\n",
    "from torch.utils.data import Dataset\n",
    "\n",
    "\n",
    "class MultiResolutionDataset(Dataset):\n",
    "    def __init__(self, path, transform, resolution=256):\n",
    "        self.env = lmdb.open(\n",
    "            path,\n",
    "            max_readers=32,\n",
    "            readonly=True,\n",
    "            lock=False,\n",
    "            readahead=False,\n",
    "            meminit=False,\n",
    "        )\n",
    "\n",
    "        if not self.env:\n",
    "            raise IOError('Cannot open lmdb dataset', path)\n",
    "\n",
    "        with self.env.begin(write=False) as txn:\n",
    "            self.length = int(txn.get('length'.encode('utf-8')).decode('utf-8'))\n",
    "\n",
    "        self.resolution = resolution\n",
    "        self.transform = transform\n",
    "\n",
    "    def __len__(self):\n",
    "        return self.length\n",
    "\n",
    "    def __getitem__(self, index):\n",
    "        with self.env.begin(write=False) as txn:\n",
    "            key = f'{self.resolution}-{str(index).zfill(5)}'.encode('utf-8')\n",
    "            img_bytes = txn.get(key)\n",
    "\n",
    "        buffer = BytesIO(img_bytes)\n",
    "        img = Image.open(buffer)\n",
    "        img = self.transform(img)\n",
    "\n",
    "        return img"
   ]
  },
  {
   "cell_type": "code",
   "execution_count": 24,
   "metadata": {},
   "outputs": [
    {
     "data": {
      "text/plain": [
       "{4: 512, 8: 512, 16: 512, 32: 512}"
      ]
     },
     "execution_count": 24,
     "metadata": {},
     "output_type": "execute_result"
    }
   ],
   "source": [
    "chanels = {4: 512,\n",
    "            8: 512,\n",
    "            16: 512,\n",
    "            32: 512}\n",
    "chanels"
   ]
  },
  {
   "cell_type": "code",
   "execution_count": 26,
   "metadata": {},
   "outputs": [
    {
     "data": {
      "text/plain": [
       "dict"
      ]
     },
     "execution_count": 26,
     "metadata": {},
     "output_type": "execute_result"
    }
   ],
   "source": [
    "type(chanels)"
   ]
  },
  {
   "cell_type": "code",
   "execution_count": 45,
   "metadata": {},
   "outputs": [],
   "source": [
    "mean=(0.5,)"
   ]
  },
  {
   "cell_type": "code",
   "execution_count": 27,
   "metadata": {},
   "outputs": [],
   "source": [
    "data_loader = DataLoader(dbrown, batch_size=5, shuffle=True, num_workers=4)"
   ]
  },
  {
   "cell_type": "code",
   "execution_count": 46,
   "metadata": {},
   "outputs": [
    {
     "data": {
      "text/plain": [
       "(0.5,)"
      ]
     },
     "execution_count": 46,
     "metadata": {},
     "output_type": "execute_result"
    }
   ],
   "source": [
    "mean"
   ]
  },
  {
   "cell_type": "code",
   "execution_count": 84,
   "metadata": {},
   "outputs": [
    {
     "name": "stdout",
     "output_type": "stream",
     "text": [
      "Collecting lmdb\n",
      "  Downloading lmdb-1.0.0.tar.gz (876 kB)\n",
      "\u001b[K     |████████████████████████████████| 876 kB 1.8 MB/s eta 0:00:01\n",
      "\u001b[?25hBuilding wheels for collected packages: lmdb\n",
      "  Building wheel for lmdb (setup.py) ... \u001b[?25ldone\n",
      "\u001b[?25h  Created wheel for lmdb: filename=lmdb-1.0.0-cp36-cp36m-linux_x86_64.whl size=220787 sha256=2c14e172ab60bcf856df6ac1ba2a17d3cf86de57c37d0c4b6f54d2ba827e1b56\n",
      "  Stored in directory: /root/.cache/pip/wheels/f7/c0/90/349862eab66c0e0fc1644577c75af1d7c46465e571c437bb89\n",
      "Successfully built lmdb\n",
      "Installing collected packages: lmdb\n",
      "Successfully installed lmdb-1.0.0\n",
      "\u001b[33mWARNING: You are using pip version 20.2.4; however, version 20.3.3 is available.\n",
      "You should consider upgrading via the '/usr/bin/python3 -m pip install --upgrade pip' command.\u001b[0m\n",
      "Note: you may need to restart the kernel to use updated packages.\n"
     ]
    }
   ],
   "source": [
    "pip install lmdb"
   ]
  },
  {
   "cell_type": "code",
   "execution_count": 116,
   "metadata": {},
   "outputs": [
    {
     "name": "stdout",
     "output_type": "stream",
     "text": [
      "137\n"
     ]
    },
    {
     "data": {
      "text/plain": [
       "<_io.BytesIO at 0x7f809cc71d00>"
      ]
     },
     "execution_count": 116,
     "metadata": {},
     "output_type": "execute_result"
    }
   ],
   "source": [
    "from io import BytesIO\n",
    "import lmdb\n",
    "from PIL import Image\n",
    "#f = open(\"./datasets/brown/train/10.png\", \"rb\")\n",
    "#buffer = BytesIO(f)\n",
    "with open(\"./datasets/brown/train/10.png\", \"rb\") as image:\n",
    "    f = image.read()\n",
    "    b = bytearray(f)\n",
    "    buffer1 = BytesIO(f)\n",
    "    img = Image.open(buffer1)\n",
    "    print(b[0])\n",
    "buffer2 = BytesIO(b)\n",
    "buffer1\n"
   ]
  },
  {
   "cell_type": "code",
   "execution_count": 117,
   "metadata": {},
   "outputs": [
    {
     "data": {
      "image/png": "[encoded data removed]",
      "text/plain": [
       "<PIL.PngImagePlugin.PngImageFile image mode=RGB size=259x182 at 0x7F8096BFDAC8>"
      ]
     },
     "execution_count": 117,
     "metadata": {},
     "output_type": "execute_result"
    }
   ],
   "source": [
    "img"
   ]
  },
  {
   "cell_type": "code",
   "execution_count": 108,
   "metadata": {},
   "outputs": [
    {
     "data": {
      "text/plain": [
       "<_io.BytesIO at 0x7f809cc714c0>"
      ]
     },
     "execution_count": 108,
     "metadata": {},
     "output_type": "execute_result"
    }
   ],
   "source": [
    "buffer2"
   ]
  },
  {
   "cell_type": "code",
   "execution_count": 93,
   "metadata": {},
   "outputs": [
    {
     "data": {
      "text/plain": [
       "['88.png',\n",
       " '56.png',\n",
       " '68.png',\n",
       " '82.png',\n",
       " '33.png',\n",
       " '53.png',\n",
       " '71.png',\n",
       " '61.png',\n",
       " '27.png',\n",
       " '86.png',\n",
       " '18.png',\n",
       " '41.png',\n",
       " '74.png',\n",
       " '15.png',\n",
       " '2.png',\n",
       " '8.png',\n",
       " '49.png',\n",
       " '58.png',\n",
       " '0.png',\n",
       " '51.png',\n",
       " '75.png',\n",
       " '36.png',\n",
       " '70.png',\n",
       " '60.png',\n",
       " '25.png',\n",
       " '19.png',\n",
       " '30.png',\n",
       " '62.png',\n",
       " '64.png',\n",
       " '92.png',\n",
       " '29.png',\n",
       " '13.png',\n",
       " '85.png',\n",
       " '3.png',\n",
       " '17.png',\n",
       " '5.png',\n",
       " '84.png',\n",
       " '67.png',\n",
       " '45.png',\n",
       " '1.png',\n",
       " '87.png',\n",
       " '69.png',\n",
       " '89.png',\n",
       " '57.png',\n",
       " '42.png',\n",
       " '78.png',\n",
       " '59.png',\n",
       " '54.png',\n",
       " '52.png',\n",
       " '23.png',\n",
       " '47.png',\n",
       " '66.png',\n",
       " '4.png',\n",
       " '80.png',\n",
       " '77.png',\n",
       " '39.png',\n",
       " '10.png',\n",
       " '24.png',\n",
       " '32.png',\n",
       " '6.png',\n",
       " '43.png',\n",
       " '22.png',\n",
       " '63.png',\n",
       " '31.png',\n",
       " '14.png',\n",
       " '48.png',\n",
       " '26.png',\n",
       " '55.png',\n",
       " '11.png',\n",
       " '35.png',\n",
       " '34.png',\n",
       " '37.png',\n",
       " '65.png',\n",
       " '20.png',\n",
       " '12.png',\n",
       " '81.png',\n",
       " '83.png',\n",
       " '9.png',\n",
       " '44.png',\n",
       " '91.png',\n",
       " '90.png',\n",
       " '16.png',\n",
       " '40.png',\n",
       " '21.png',\n",
       " '38.png',\n",
       " '.ipynb_checkpoints',\n",
       " '94.png',\n",
       " '7.png',\n",
       " '73.png',\n",
       " '93.png',\n",
       " '50.png',\n",
       " '79.png',\n",
       " '46.png',\n",
       " '95.png',\n",
       " '28.png',\n",
       " '72.png']"
      ]
     },
     "execution_count": 93,
     "metadata": {},
     "output_type": "execute_result"
    }
   ],
   "source": [
    "from os import listdir\n",
    "listdir('./datasets/brown/train/')"
   ]
  },
  {
   "cell_type": "code",
   "execution_count": 94,
   "metadata": {},
   "outputs": [
    {
     "ename": "Error",
     "evalue": "./datasets/brown/train/: No such file or directory",
     "output_type": "error",
     "traceback": [
      "\u001b[0;31m\u001b[0m",
      "\u001b[0;31mError\u001b[0mTraceback (most recent call last)",
      "\u001b[0;32m<ipython-input-94-83668b742659>\u001b[0m in \u001b[0;36m<module>\u001b[0;34m\u001b[0m\n\u001b[1;32m      5\u001b[0m             \u001b[0mlock\u001b[0m\u001b[0;34m=\u001b[0m\u001b[0;32mFalse\u001b[0m\u001b[0;34m,\u001b[0m\u001b[0;34m\u001b[0m\u001b[0;34m\u001b[0m\u001b[0m\n\u001b[1;32m      6\u001b[0m             \u001b[0mreadahead\u001b[0m\u001b[0;34m=\u001b[0m\u001b[0;32mFalse\u001b[0m\u001b[0;34m,\u001b[0m\u001b[0;34m\u001b[0m\u001b[0;34m\u001b[0m\u001b[0m\n\u001b[0;32m----> 7\u001b[0;31m             \u001b[0mmeminit\u001b[0m\u001b[0;34m=\u001b[0m\u001b[0;32mFalse\u001b[0m\u001b[0;34m\u001b[0m\u001b[0;34m\u001b[0m\u001b[0m\n\u001b[0m\u001b[1;32m      8\u001b[0m         )\n",
      "\u001b[0;31mError\u001b[0m: ./datasets/brown/train/: No such file or directory"
     ]
    }
   ],
   "source": [
    "sss = lmdb.open(\n",
    "            \"./datasets/brown/train/\",\n",
    "            max_readers=32,\n",
    "            readonly=True,\n",
    "            lock=False,\n",
    "            readahead=False,\n",
    "            meminit=False\n",
    "        )"
   ]
  },
  {
   "cell_type": "code",
   "execution_count": 127,
   "metadata": {},
   "outputs": [
    {
     "data": {
      "text/plain": [
       "numpy.ndarray"
      ]
     },
     "execution_count": 127,
     "metadata": {},
     "output_type": "execute_result"
    }
   ],
   "source": [
    "type(labels)"
   ]
  },
  {
   "cell_type": "code",
   "execution_count": 164,
   "metadata": {},
   "outputs": [],
   "source": [
    "label_emb = nn.Embedding(10, 9)"
   ]
  },
  {
   "cell_type": "code",
   "execution_count": 167,
   "metadata": {},
   "outputs": [],
   "source": [
    "labels = dbrown[1][1]\n",
    "labels = torch.from_numpy(labels)\n",
    "c = label_emb(labels)"
   ]
  },
  {
   "cell_type": "code",
   "execution_count": 168,
   "metadata": {},
   "outputs": [
    {
     "data": {
      "text/plain": [
       "torch.Size([9, 9])"
      ]
     },
     "execution_count": 168,
     "metadata": {},
     "output_type": "execute_result"
    }
   ],
   "source": [
    "c.size()"
   ]
  },
  {
   "cell_type": "code",
   "execution_count": null,
   "metadata": {},
   "outputs": [],
   "source": []
  }
 ],
 "metadata": {
  "kernelspec": {
   "display_name": "Python 3",
   "language": "python",
   "name": "python3"
  },
  "language_info": {
   "codemirror_mode": {
    "name": "ipython",
    "version": 3
   },
   "file_extension": ".py",
   "mimetype": "text/x-python",
   "name": "python",
   "nbconvert_exporter": "python",
   "pygments_lexer": "ipython3",
   "version": "3.6.8"
  }
 },
 "nbformat": 4,
 "nbformat_minor": 4
}
